{
  "cells": [
    {
      "cell_type": "markdown",
      "metadata": {
        "id": "HiytacBFBHgn"
      },
      "source": [
        "<div align=\"center\">\n",
        "<img alt=\"if\" height=\"200\" style=\"border-radius:55px;\" src=https://www.ifpb.edu.br/imagens/logotipos/ifpb-1>\n",
        "\n",
        "# **Estatística Aplicada à Computação**\n",
        "\n",
        "**CURSO BACHARELADO EM ENGENHARIA DE COMPUTAÇÃO**\n",
        "\n",
        "**PROFESSOR:** *PAULO RIBEIRO LINS JUNIOR*\n",
        "\n",
        "**ALUNO:** *Ynnayron Juan Lopes da Silva*\n",
        "\n",
        "\n",
        "### **LISTA DE EXERCICIO**\n",
        "\n",
        "\n",
        "---------"
      ]
    },
    {
      "cell_type": "markdown",
      "metadata": {
        "id": "6463YZhb5jPf"
      },
      "source": [
        "### **Questão 1**"
      ]
    },
    {
      "cell_type": "markdown",
      "metadata": {
        "id": "i_GmwJXH5m4k"
      },
      "source": [
        "Concatenar\t dois\t ou\t mais\t DataFrames\t pandas\t consiste\t na\n",
        "operação\t de\t empilhar\t um\t \"no\t topo\"\t do\t outro,\t gerando\t um\n",
        "DataFrame\túnico\tcomo\tresultado."
      ]
    },
    {
      "cell_type": "markdown",
      "metadata": {
        "id": "aIUd6XgL6Ixa"
      },
      "source": [
        "quando concatenamos no sentido da coluna ele empilha verticalmente"
      ]
    },
    {
      "cell_type": "code",
      "execution_count": 14,
      "metadata": {
        "colab": {
          "base_uri": "https://localhost:8080/"
        },
        "id": "Ui5O5rDm0-Sw",
        "outputId": "9ea1d487-ffa8-4882-b38b-41757c18c060"
      },
      "outputs": [
        {
          "name": "stdout",
          "output_type": "stream",
          "text": [
            "  loja  dia  valor\n",
            "0    A  sex   7500\n",
            "1    A  sab   9500\n",
            "2    A  dom   8200\n",
            "3    B  sex   5100\n",
            "4    B  sab   8250\n",
            "5    B  dom   9900\n",
            "6    C  sab   7500\n",
            "7    C  dom  11800\n"
          ]
        }
      ],
      "source": [
        "import pandas as pd\n",
        "import numpy as np\n",
        "Mercearia = pd.DataFrame({\"loja\":[\"A\", \"A\", \"A\"],\n",
        "\"dia\": [\"sex\", \"sab\", \"dom\"],\n",
        "\"valor\": [7500, 9500, 8200]})\n",
        "Farmácia = pd.DataFrame({\"loja\":[\"B\", \"B\", \"B\"],\n",
        "\"dia\": [\"sex\", \"sab\", \"dom\"],\n",
        "\"valor\": [5100, 8250, 9900]})\n",
        "Restaurante = pd.DataFrame({\"loja\":[\"C\", \"C\"],\n",
        "\"dia\": [\"sab\", \"dom\"],\n",
        "\"valor\": [7500, 11800]})\n",
        "lojas\t=\tpd.concat([Mercearia,Farmácia,Restaurante],\taxis=0,\tignore_index=True)\n",
        "print(lojas)"
      ]
    },
    {
      "cell_type": "markdown",
      "metadata": {
        "id": "wZvPaCC56eSr"
      },
      "source": [
        "quando concatenamos no sentido da linha ele empilha horizontalmente"
      ]
    },
    {
      "cell_type": "code",
      "execution_count": 15,
      "metadata": {
        "colab": {
          "base_uri": "https://localhost:8080/"
        },
        "id": "PrD37cOS6nmL",
        "outputId": "ed5d2140-202b-4ecd-f29f-1739e33fb476"
      },
      "outputs": [
        {
          "name": "stdout",
          "output_type": "stream",
          "text": [
            "   0    1     2  3    4     5    6    7        8\n",
            "0  A  sex  7500  B  sex  5100    C  sab   7500.0\n",
            "1  A  sab  9500  B  sab  8250    C  dom  11800.0\n",
            "2  A  dom  8200  B  dom  9900  NaN  NaN      NaN\n"
          ]
        }
      ],
      "source": [
        "import pandas as pd\n",
        "import numpy as np\n",
        "Mercearia = pd.DataFrame({\"loja\":[\"A\", \"A\", \"A\"],\n",
        "\"dia\": [\"sex\", \"sab\", \"dom\"],\n",
        "\"valor\": [7500, 9500, 8200]})\n",
        "Farmácia = pd.DataFrame({\"loja\":[\"B\", \"B\", \"B\"],\n",
        "\"dia\": [\"sex\", \"sab\", \"dom\"],\n",
        "\"valor\": [5100, 8250, 9900]})\n",
        "Restaurante = pd.DataFrame({\"loja\":[\"C\", \"C\"],\n",
        "\"dia\": [\"sab\", \"dom\"],\n",
        "\"valor\": [7500, 11800]})\n",
        "lojas\t=\tpd.concat([Mercearia,Farmácia,Restaurante],\taxis=1,\tignore_index=True)\n",
        "print(lojas)"
      ]
    },
    {
      "cell_type": "markdown",
      "metadata": {
        "id": "g23pPJWj7bgY"
      },
      "source": [
        "### **Questão 2**"
      ]
    },
    {
      "cell_type": "code",
      "execution_count": 11,
      "metadata": {
        "colab": {
          "base_uri": "https://localhost:8080/"
        },
        "id": "dNtul8Uz7ngf",
        "outputId": "59ad4f6e-8f67-4ab6-aeb4-718e3935a452"
      },
      "outputs": [
        {
          "name": "stdout",
          "output_type": "stream",
          "text": [
            "------------------------------\n",
            "Alunos\tDistintos:\n",
            "                  email\n",
            "0        rakesh@xyz.com\n",
            "1    ecg@acmecorpus.com\n",
            "2           ana@xyz.com\n",
            "3  jonas@acmecorpus.com\n",
            "------------------------------\n",
            "Alunos\tcursaram\tSQL\te\tPython:\n",
            "            email\n",
            "0  rakesh@xyz.com\n",
            "------------------------------\n",
            "Alunos\tcursaram\tapenas\tSQL:\n",
            "                email\n",
            "1  ecg@acmecorpus.com\n",
            "------------------------------\n",
            "Alunos\tcursaram\tapenas\tPython:\n",
            "                  email\n",
            "0           ana@xyz.com\n",
            "1  jonas@acmecorpus.com\n"
          ]
        }
      ],
      "source": [
        "import pandas as pd\n",
        "import numpy as np\n",
        "df_sql = pd.DataFrame({\"email\":[\"rakesh@xyz.com\",\n",
        "\"ecg@acmecorpus.com\"]})\n",
        "df_python = pd.DataFrame({\"email\":[\"ana@xyz.com\",\n",
        "\"jonas@acmecorpus.com\",\n",
        "\"rakesh@xyz.com\"]})\n",
        "\n",
        "alunos\t=\tpd.concat([df_sql,\tdf_python],\tignore_index=True)\n",
        "alunos\t=\talunos.drop_duplicates()\n",
        "sql_e_python\t=\tdf_sql.merge(df_python)\t\n",
        "so_sql\t=\tdf_sql[df_sql.email.isin(df_python.email)==False]\n",
        "so_python\t=\tdf_python[df_python.email.isin(df_sql.email)==False]\n",
        "print('------------------------------')\n",
        "print('Alunos\tDistintos:')\n",
        "print(alunos)\n",
        "print('------------------------------')\n",
        "print('Alunos\tcursaram\tSQL\te\tPython:')\n",
        "print(sql_e_python)\n",
        "print('------------------------------')\n",
        "print('Alunos\tcursaram\tapenas\tSQL:')\n",
        "print(so_sql)\n",
        "print('------------------------------')\n",
        "print('Alunos\tcursaram\tapenas\tPython:')\n",
        "print(so_python)\n"
      ]
    },
    {
      "cell_type": "markdown",
      "metadata": {
        "id": "4u3xQugH92Uz"
      },
      "source": [
        "**A)** Alunos\tDistintos:\n",
        "\n",
        "rakesh@xyz.com\n",
        "\n",
        "ecg@acmecorpus.com\n",
        "\n",
        "ana@xyz.com\n",
        "\n",
        "jonas@acmecorpus.com\n",
        "\n",
        "**B)**Alunos\tcursaram\tSQL\te\tPython:\n",
        "\n",
        "rakesh@xyz.com\n",
        "\n",
        "**C)**Alunos\tcursaram\tapenas\tSQL:\n",
        "\n",
        "ecg@acmecorpus.com\n",
        "\n",
        "Alunos\tcursaram\tapenas\tPython:\n",
        "\n",
        "ana@xyz.com\n",
        "\n",
        "jonas@acmecorpus.com"
      ]
    },
    {
      "cell_type": "markdown",
      "metadata": {
        "id": "Xi6yfUNl-bGy"
      },
      "source": [
        "### **Questão 3**"
      ]
    },
    {
      "cell_type": "code",
      "execution_count": 13,
      "metadata": {
        "colab": {
          "base_uri": "https://localhost:8080/"
        },
        "id": "b6Gjo-Nf_HCJ",
        "outputId": "dfe1b694-ead2-4835-cf8d-a505111e20ed"
      },
      "outputs": [
        {
          "name": "stdout",
          "output_type": "stream",
          "text": [
            "------------------------------\n",
            "depto:\n",
            "   id nomDepto local\n",
            "0  D1  Compras    SP\n",
            "1  D2       RH    RJ\n",
            "2  D3       TI    RJ\n",
            "3  D4   Vendas    SP\n",
            "------------------------------\n",
            "emp:\n",
            "    num    nome  salario idDepto\n",
            "0  3199     Ana     1600      D2\n",
            "1  3269   David     2975      D3\n",
            "2  3555    José     1500    None\n",
            "3  3788  Marina     5000      D2\n",
            "4  3844    Luís     3000      D4\n",
            "------------------------------\n",
            "junção\tinterna:\n",
            "    num    nome  salario idDepto  id nomDepto local\n",
            "0  3199     Ana     1600      D2  D2       RH    RJ\n",
            "1  3788  Marina     5000      D2  D2       RH    RJ\n",
            "2  3269   David     2975      D3  D3       TI    RJ\n",
            "3  3844    Luís     3000      D4  D4   Vendas    SP\n"
          ]
        }
      ],
      "source": [
        "import\tpandas\tas\tpd\n",
        "\n",
        "dic_depto\t=\t{\"id\":[\"D1\",\"D2\",\"D3\",\"D4\"],\t\n",
        "\t\t\t\t\t\t\t\t\t\t\t\t\t\"nomDepto\":\t[\"Compras\",\"RH\",\"TI\",\"Vendas\"],\n",
        "\t\t\t\t\t\t\t\t\t\t\t\t\t\"local\":[\"SP\",\"RJ\",\"RJ\",\"SP\"]\n",
        "\t\t\t\t\t\t\t\t\t\t\t\t\t}\n",
        "dic_emp\t=\t{\"num\":[3199,3269,3555,3788,3844],\n",
        "\t\t\t\t\t\t\t\t\t\t\t\"nome\":\t[\"Ana\",\"David\",\"José\",\"Marina\",\"Luís\"],\n",
        "\t\t\t\t\t\t\t\t\t\t\t\"salario\":[1600,2975,1500,5000,3000],\n",
        "\t\t\t\t\t\t\t\t\t\t\t\"idDepto\":\t[\"D2\",\"D3\",None,\"D2\",\"D4\"]\n",
        "\t\t\t\t\t\t\t\t\t\t\t}\n",
        "depto\t=\tpd.DataFrame(dic_depto)\n",
        "emp\t=\tpd.DataFrame(dic_emp)\t\n",
        "juncao_interna\t=\tpd.merge(emp,\tdepto,\tleft_on=\"idDepto\",\tright_on=\n",
        "\"id\")\n",
        "print('------------------------------')\n",
        "print(\"depto:\")\n",
        "print(depto)\n",
        "print('------------------------------')\n",
        "print(\"emp:\")\n",
        "print(emp)\n",
        "print('------------------------------')\n",
        "print(\"junção\tinterna:\")\n",
        "print(juncao_interna)\n"
      ]
    },
    {
      "cell_type": "markdown",
      "metadata": {
        "id": "YWBxcs27AdNm"
      },
      "source": [
        "O\tmétodo\t\tmerge()\t\té\tutilizado\tna\tpandas\tpara\timplementar\n",
        "todos\t os\t tipos\t de\t operação\t de\t junção.\n",
        "Conceitualmente,\t tanto a\tjunção\tinterna\t\n",
        "como\t junção\t natural funciona\t da\tmesma\tforma,\t ou\t seja,\t ela\t combina\t uma\t linha\t de\t um\n",
        "DataFrame\t \tR\t\t com\t uma\t linha\t de\t um\t DataFrame\t \tS\t\t apenas\n",
        "quando\t há\t coincidência\t nos\t valores\t das\t colunas\t especificadas\t na\n",
        "condição\t de\t junção"
      ]
    }
  ],
  "metadata": {
    "colab": {
      "name": "Lista de Exercícios 4a Thiago Aciole.ipynb",
      "provenance": []
    },
    "kernelspec": {
      "display_name": "Python 3",
      "name": "python3"
    },
    "language_info": {
      "name": "python"
    }
  },
  "nbformat": 4,
  "nbformat_minor": 0
}
