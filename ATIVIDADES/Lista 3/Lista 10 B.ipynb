{
 "cells": [
  {
   "cell_type": "markdown",
   "id": "db7f794a",
   "metadata": {},
   "source": [
    "<div align=\"center\">\n",
    "<img alt=\"if\" height=\"200\" style=\"border-radius:55px;\" src=https://www.ifpb.edu.br/imagens/logotipos/ifpb-1>\n",
    "\n",
    "# **Estatística Aplicada à Computação**\n",
    "\n",
    "**CURSO BACHARELADO EM ENGENHARIA DE COMPUTAÇÃO**\n",
    "\n",
    "**PROFESSOR:** *PAULO RIBEIRO LINS JUNIOR*\n",
    "\n",
    "**ALUNO:** *Ynnayron Juan Lopes da Silva*\n",
    "\n",
    "\n",
    "### **LISTA DE EXERCICIO 10b**\n",
    "\n",
    "\n",
    "---------"
   ]
  },
  {
   "cell_type": "markdown",
   "id": "6447777c",
   "metadata": {},
   "source": [
    "<div align=\"center\">\n",
    "\n",
    "**Considerando a geração de gráficos trabalhada na video aula compartilhada e no notebook\n",
    "auxiliar, gere os gráficos em setores e em barras (todos os tipos) para as variáveis qualitativas\n",
    "(categóricas) para todas as variáveis do conjunto de dados do Titanic**"
   ]
  },
  {
   "cell_type": "code",
   "execution_count": 7,
   "id": "51b20709",
   "metadata": {},
   "outputs": [
    {
     "data": {
      "text/html": [
       "<div>\n",
       "<style scoped>\n",
       "    .dataframe tbody tr th:only-of-type {\n",
       "        vertical-align: middle;\n",
       "    }\n",
       "\n",
       "    .dataframe tbody tr th {\n",
       "        vertical-align: top;\n",
       "    }\n",
       "\n",
       "    .dataframe thead th {\n",
       "        text-align: right;\n",
       "    }\n",
       "</style>\n",
       "<table border=\"1\" class=\"dataframe\">\n",
       "  <thead>\n",
       "    <tr style=\"text-align: right;\">\n",
       "      <th></th>\n",
       "      <th>Survived</th>\n",
       "      <th>Pclass</th>\n",
       "      <th>Sex</th>\n",
       "      <th>Embarked</th>\n",
       "    </tr>\n",
       "  </thead>\n",
       "  <tbody>\n",
       "    <tr>\n",
       "      <th>0</th>\n",
       "      <td>0</td>\n",
       "      <td>3</td>\n",
       "      <td>male</td>\n",
       "      <td>S</td>\n",
       "    </tr>\n",
       "    <tr>\n",
       "      <th>1</th>\n",
       "      <td>1</td>\n",
       "      <td>1</td>\n",
       "      <td>female</td>\n",
       "      <td>C</td>\n",
       "    </tr>\n",
       "    <tr>\n",
       "      <th>2</th>\n",
       "      <td>1</td>\n",
       "      <td>3</td>\n",
       "      <td>female</td>\n",
       "      <td>S</td>\n",
       "    </tr>\n",
       "    <tr>\n",
       "      <th>3</th>\n",
       "      <td>1</td>\n",
       "      <td>1</td>\n",
       "      <td>female</td>\n",
       "      <td>S</td>\n",
       "    </tr>\n",
       "    <tr>\n",
       "      <th>4</th>\n",
       "      <td>0</td>\n",
       "      <td>3</td>\n",
       "      <td>male</td>\n",
       "      <td>S</td>\n",
       "    </tr>\n",
       "    <tr>\n",
       "      <th>...</th>\n",
       "      <td>...</td>\n",
       "      <td>...</td>\n",
       "      <td>...</td>\n",
       "      <td>...</td>\n",
       "    </tr>\n",
       "    <tr>\n",
       "      <th>886</th>\n",
       "      <td>0</td>\n",
       "      <td>2</td>\n",
       "      <td>male</td>\n",
       "      <td>S</td>\n",
       "    </tr>\n",
       "    <tr>\n",
       "      <th>887</th>\n",
       "      <td>1</td>\n",
       "      <td>1</td>\n",
       "      <td>female</td>\n",
       "      <td>S</td>\n",
       "    </tr>\n",
       "    <tr>\n",
       "      <th>888</th>\n",
       "      <td>0</td>\n",
       "      <td>3</td>\n",
       "      <td>female</td>\n",
       "      <td>S</td>\n",
       "    </tr>\n",
       "    <tr>\n",
       "      <th>889</th>\n",
       "      <td>1</td>\n",
       "      <td>1</td>\n",
       "      <td>male</td>\n",
       "      <td>C</td>\n",
       "    </tr>\n",
       "    <tr>\n",
       "      <th>890</th>\n",
       "      <td>0</td>\n",
       "      <td>3</td>\n",
       "      <td>male</td>\n",
       "      <td>Q</td>\n",
       "    </tr>\n",
       "  </tbody>\n",
       "</table>\n",
       "<p>891 rows × 4 columns</p>\n",
       "</div>"
      ],
      "text/plain": [
       "     Survived  Pclass     Sex Embarked\n",
       "0           0       3    male        S\n",
       "1           1       1  female        C\n",
       "2           1       3  female        S\n",
       "3           1       1  female        S\n",
       "4           0       3    male        S\n",
       "..        ...     ...     ...      ...\n",
       "886         0       2    male        S\n",
       "887         1       1  female        S\n",
       "888         0       3  female        S\n",
       "889         1       1    male        C\n",
       "890         0       3    male        Q\n",
       "\n",
       "[891 rows x 4 columns]"
      ]
     },
     "execution_count": 7,
     "metadata": {},
     "output_type": "execute_result"
    }
   ],
   "source": [
    "import pandas as pd\n",
    "df1=pd.read_csv(\"https://raw.githubusercontent.com/datasciencedojo/datasets/master/titanic.csv\",usecols=[\"Sex\",\"Pclass\",\"Survived\",\"Embarked\"])\n",
    "df1"
   ]
  },
  {
   "cell_type": "markdown",
   "id": "2c2d9247",
   "metadata": {},
   "source": [
    "<div align=\"center\">\n",
    "\n",
    "#### Aqui Importei apenas As Colunas Com Variaveis Qualitativas Pra Facilitar A Visualização Do DataFrame e Poder Gerar Os Graficos"
   ]
  },
  {
   "cell_type": "markdown",
   "id": "5fad1bfa",
   "metadata": {},
   "source": [
    "<div align=\"center\">\n",
    "\n",
    "-----------------\n",
    "### **SURVIVED**"
   ]
  },
  {
   "cell_type": "code",
   "execution_count": 13,
   "id": "bf4d2404",
   "metadata": {},
   "outputs": [
    {
     "data": {
      "image/png": "[encoded data removed]",
      "text/plain": [
       "<Figure size 432x288 with 1 Axes>"
      ]
     },
     "metadata": {},
     "output_type": "display_data"
    },
    {
     "data": {
      "image/png": "[encoded data removed]",
      "text/plain": [
       "<Figure size 432x288 with 1 Axes>"
      ]
     },
     "metadata": {
      "needs_background": "light"
     },
     "output_type": "display_data"
    },
    {
     "data": {
      "image/png": "[encoded data removed]",
      "text/plain": [
       "<Figure size 432x288 with 1 Axes>"
      ]
     },
     "metadata": {
      "needs_background": "light"
     },
     "output_type": "display_data"
    }
   ],
   "source": [
    "import matplotlib.pyplot as plt\n",
    "plt.show(df1[\"Survived\"].value_counts().plot.pie(title=\"Survived\"))\n",
    "plt.show(df1[\"Survived\"].value_counts().plot.bar(title=\"Survived\"))\n",
    "plt.show(df1[\"Survived\"].value_counts().plot.barh(title=\"Survived\"))"
   ]
  },
  {
   "cell_type": "markdown",
   "id": "fbe106d2",
   "metadata": {},
   "source": [
    "<div align=\"center\">\n",
    "\n",
    "---------\n",
    "### **Pclass**"
   ]
  },
  {
   "cell_type": "code",
   "execution_count": 14,
   "id": "5d56710b",
   "metadata": {},
   "outputs": [
    {
     "data": {
      "image/png": "[encoded data removed]",
      "text/plain": [
       "<Figure size 432x288 with 1 Axes>"
      ]
     },
     "metadata": {},
     "output_type": "display_data"
    },
    {
     "data": {
      "image/png": "[encoded data removed]",
      "text/plain": [
       "<Figure size 432x288 with 1 Axes>"
      ]
     },
     "metadata": {
      "needs_background": "light"
     },
     "output_type": "display_data"
    },
    {
     "data": {
      "image/png": "[encoded data removed]",
      "text/plain": [
       "<Figure size 432x288 with 1 Axes>"
      ]
     },
     "metadata": {
      "needs_background": "light"
     },
     "output_type": "display_data"
    }
   ],
   "source": [
    "import matplotlib.pyplot as plt\n",
    "plt.show(df1[\"Pclass\"].value_counts().plot.pie(title=\"Pclass\"))\n",
    "plt.show(df1[\"Pclass\"].value_counts().plot.bar(title=\"Pclass\"))\n",
    "plt.show(df1[\"Pclass\"].value_counts().plot.barh(title=\"Pclass\"))"
   ]
  },
  {
   "cell_type": "markdown",
   "id": "18e4ecf1",
   "metadata": {},
   "source": [
    "<div align=\"center\">\n",
    "\n",
    "---------------\n",
    "### **SEXO**"
   ]
  },
  {
   "cell_type": "code",
   "execution_count": 16,
   "id": "ad1a1223",
   "metadata": {},
   "outputs": [
    {
     "data": {
      "image/png": "[encoded data removed]",
      "text/plain": [
       "<Figure size 432x288 with 1 Axes>"
      ]
     },
     "metadata": {},
     "output_type": "display_data"
    },
    {
     "data": {
      "image/png": "[encoded data removed]",
      "text/plain": [
       "<Figure size 432x288 with 1 Axes>"
      ]
     },
     "metadata": {
      "needs_background": "light"
     },
     "output_type": "display_data"
    },
    {
     "data": {
      "image/png": "[encoded data removed]",
      "text/plain": [
       "<Figure size 432x288 with 1 Axes>"
      ]
     },
     "metadata": {
      "needs_background": "light"
     },
     "output_type": "display_data"
    }
   ],
   "source": [
    "import matplotlib.pyplot as plt\n",
    "plt.show(df1[\"Sex\"].value_counts().plot.pie(title=\"Sex\"))\n",
    "plt.show(df1[\"Sex\"].value_counts().plot.bar(title=\"Sex\"))\n",
    "plt.show(df1[\"Sex\"].value_counts().plot.barh(title=\"Sex\"))"
   ]
  },
  {
   "cell_type": "markdown",
   "id": "65bc843b",
   "metadata": {},
   "source": [
    "<div align=\"center\">\n",
    "\n",
    "----------\n",
    "### **Embarked**"
   ]
  },
  {
   "cell_type": "code",
   "execution_count": 17,
   "id": "53f16e9d",
   "metadata": {},
   "outputs": [
    {
     "data": {
      "image/png": "[encoded data removed]",
      "text/plain": [
       "<Figure size 432x288 with 1 Axes>"
      ]
     },
     "metadata": {},
     "output_type": "display_data"
    },
    {
     "data": {
      "image/png": "[encoded data removed]",
      "text/plain": [
       "<Figure size 432x288 with 1 Axes>"
      ]
     },
     "metadata": {
      "needs_background": "light"
     },
     "output_type": "display_data"
    },
    {
     "data": {
      "image/png": "[encoded data removed]",
      "text/plain": [
       "<Figure size 432x288 with 1 Axes>"
      ]
     },
     "metadata": {
      "needs_background": "light"
     },
     "output_type": "display_data"
    }
   ],
   "source": [
    "import matplotlib.pyplot as plt\n",
    "plt.show(df1[\"Embarked\"].value_counts().plot.pie(title=\"Embarked\"))\n",
    "plt.show(df1[\"Embarked\"].value_counts().plot.bar(title=\"Embarked\"))\n",
    "plt.show(df1[\"Embarked\"].value_counts().plot.barh(title=\"Embarked\"))"
   ]
  },
  {
   "cell_type": "markdown",
   "id": "99ad4f67",
   "metadata": {},
   "source": [
    "---------------"
   ]
  }
 ],
 "metadata": {
  "kernelspec": {
   "display_name": "Python 3 (ipykernel)",
   "language": "python",
   "name": "python3"
  },
  "language_info": {
   "codemirror_mode": {
    "name": "ipython",
    "version": 3
   },
   "file_extension": ".py",
   "mimetype": "text/x-python",
   "name": "python",
   "nbconvert_exporter": "python",
   "pygments_lexer": "ipython3",
   "version": "3.9.7"
  }
 },
 "nbformat": 4,
 "nbformat_minor": 5
}
