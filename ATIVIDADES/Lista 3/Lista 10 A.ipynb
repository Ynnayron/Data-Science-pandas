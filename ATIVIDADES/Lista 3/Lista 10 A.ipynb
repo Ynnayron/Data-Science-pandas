{
 "cells": [
  {
   "cell_type": "markdown",
   "id": "db7f794a",
   "metadata": {},
   "source": [
    "<div align=\"center\">\n",
    "<img alt=\"if\" height=\"200\" style=\"border-radius:55px;\" src=https://www.ifpb.edu.br/imagens/logotipos/ifpb-1>\n",
    "\n",
    "# **Estatística Aplicada à Computação**\n",
    "\n",
    "**CURSO BACHARELADO EM ENGENHARIA DE COMPUTAÇÃO**\n",
    "\n",
    "**PROFESSOR:** *PAULO RIBEIRO LINS JUNIOR*\n",
    "\n",
    "**ALUNO:** *Ynnayron Juan Lopes da Silva*\n",
    "\n",
    "\n",
    "### **LISTA DE EXERCICIO 10a**\n",
    "\n",
    "\n",
    "---------"
   ]
  },
  {
   "cell_type": "markdown",
   "id": "90a4543d",
   "metadata": {},
   "source": [
    "\n",
    "**1. Determine se os dados são qualitativos ou quantitativos. Explique seu raciocínio.**\n"
   ]
  },
  {
   "cell_type": "markdown",
   "id": "e81065e8",
   "metadata": {},
   "source": [
    "(a) Alturas de balões de ar quente;\n",
    "\n",
    "**Quantitativa, Por Se tratar de altura falamos de numeros, Logo sua medição se dar por quantidade por exemplo se fomos analizar a quantidade de altura que um balão atingiu.**"
   ]
  },
  {
   "cell_type": "markdown",
   "id": "1aa4dd3c",
   "metadata": {},
   "source": [
    "(b) Capacidades de carga de caminhonetes;\n",
    "\n",
    "**Quantitativa, Por Se tratar de carga de peso tambem medimos por meio de quantidades, por exemplo a quantidade de carga que um caminhão trukado pode carregar em relação ao caminhão não trukado**"
   ]
  },
  {
   "cell_type": "markdown",
   "id": "767b64fb",
   "metadata": {},
   "source": [
    "(c) Cores dos olhos de modelos;\n",
    "\n",
    "**Qualitativa, Por ser Algo genotipo de cada um podemos definir o resultado de uma pesquisa por meio de qualificação ou seja se quisermos saber um padrão de beleza para pessoas que tem olhos azuis ou verdes**"
   ]
  },
  {
   "cell_type": "markdown",
   "id": "217e982d",
   "metadata": {},
   "source": [
    "(d) Números de identidade de estudantes;\n",
    "\n",
    "**Quantitativa, Por Se tratar de Numeros para Identificação logo Podemos Ver como Algo Quantitativo Por exemplo se quisermos Analizar Quantas Pessoas Tem A numeração Com Final 7**"
   ]
  },
  {
   "cell_type": "markdown",
   "id": "1333390d",
   "metadata": {},
   "source": [
    "(e) Respostas em uma pesquisa de opinião.\n",
    "\n",
    "**Qualitativa, Por se tratar De uma Pesquisa Que varia bastante de opnião para opnião se torna algo qualitativo, Por exemplo se uma marca for avaliar o feedback dos seus clientes ela tem que encontrar uma forma de verificar se seu desempenho e bom e ruim, etc**"
   ]
  },
  {
   "cell_type": "markdown",
   "id": "e0b1af47",
   "metadata": {},
   "source": [
    "--------------------\n",
    "**2. Na tabela abaixo temos informações sobre o sexo, a matéria predileta**"
   ]
  },
  {
   "cell_type": "markdown",
   "id": "08b8bcc0",
   "metadata": {},
   "source": [
    "(a) Classifique as variáveis envolvidas;\n",
    "\n",
    "**SEXO: QUALITATIVO**\n",
    "\n",
    "**PREDILETA: QUALITATIVA**\n",
    "\n",
    "**NOTA: QUANTITATIVO**"
   ]
  },
  {
   "cell_type": "markdown",
   "id": "03839274",
   "metadata": {},
   "source": [
    "(b) Construa a tabela de freqüências apropriada para cada uma das variáveis qualitativas."
   ]
  },
  {
   "cell_type": "code",
   "execution_count": 6,
   "id": "ebe5e585",
   "metadata": {},
   "outputs": [
    {
     "data": {
      "text/html": [
       "<div>\n",
       "<style scoped>\n",
       "    .dataframe tbody tr th:only-of-type {\n",
       "        vertical-align: middle;\n",
       "    }\n",
       "\n",
       "    .dataframe tbody tr th {\n",
       "        vertical-align: top;\n",
       "    }\n",
       "\n",
       "    .dataframe thead th {\n",
       "        text-align: right;\n",
       "    }\n",
       "</style>\n",
       "<table border=\"1\" class=\"dataframe\">\n",
       "  <thead>\n",
       "    <tr style=\"text-align: right;\">\n",
       "      <th></th>\n",
       "      <th>F</th>\n",
       "      <th>M</th>\n",
       "    </tr>\n",
       "  </thead>\n",
       "  <tbody>\n",
       "    <tr>\n",
       "      <th>Português</th>\n",
       "      <td>7</td>\n",
       "      <td>2</td>\n",
       "    </tr>\n",
       "    <tr>\n",
       "      <th>Matematica</th>\n",
       "      <td>6</td>\n",
       "      <td>6</td>\n",
       "    </tr>\n",
       "    <tr>\n",
       "      <th>Historia</th>\n",
       "      <td>3</td>\n",
       "      <td>4</td>\n",
       "    </tr>\n",
       "    <tr>\n",
       "      <th>geografia</th>\n",
       "      <td>3</td>\n",
       "      <td>5</td>\n",
       "    </tr>\n",
       "    <tr>\n",
       "      <th>Ciencias</th>\n",
       "      <td>0</td>\n",
       "      <td>3</td>\n",
       "    </tr>\n",
       "  </tbody>\n",
       "</table>\n",
       "</div>"
      ],
      "text/plain": [
       "            F  M\n",
       "Português   7  2\n",
       "Matematica  6  6\n",
       "Historia    3  4\n",
       "geografia   3  5\n",
       "Ciencias    0  3"
      ]
     },
     "execution_count": 6,
     "metadata": {},
     "output_type": "execute_result"
    }
   ],
   "source": [
    "import pandas as pd\n",
    "dados=pd.DataFrame({\"F\":[7,6,3,3,0],\n",
    "\"M\":[2,6,4,5,3]},\n",
    "index=['Português','Matematica','Historia','geografia','Ciencias'])\n",
    "dados"
   ]
  },
  {
   "cell_type": "markdown",
   "id": "c20aaea6",
   "metadata": {},
   "source": [
    "----------\n",
    "**3. Considere os dados da tabela abaixo, referentes a um levantamento feito por professores\n",
    "da Universidade Federal de Santa Catarina (UFSC)**"
   ]
  },
  {
   "cell_type": "markdown",
   "id": "5565f21f",
   "metadata": {},
   "source": [
    "(a) Classifique as variáveis envolvidas;"
   ]
  },
  {
   "cell_type": "markdown",
   "id": "deb00bfa",
   "metadata": {},
   "source": [
    "**BAIRROS: Qualitativa Nominal**\n",
    "\n",
    "**TIPO: Qualitativa Nominal**\n",
    "\n",
    "**NUMEROS DE QUARTOS: Quantitativa Discreta**\n",
    "\n",
    "**PREÇO: Quantitativa Contínua**"
   ]
  },
  {
   "cell_type": "markdown",
   "id": "55652308",
   "metadata": {},
   "source": [
    "(b) Construa a tabela de freqüências apropriada para cada uma das variáveis qualitativas"
   ]
  },
  {
   "cell_type": "code",
   "execution_count": 5,
   "id": "1443ff6c",
   "metadata": {},
   "outputs": [
    {
     "data": {
      "text/html": [
       "<div>\n",
       "<style scoped>\n",
       "    .dataframe tbody tr th:only-of-type {\n",
       "        vertical-align: middle;\n",
       "    }\n",
       "\n",
       "    .dataframe tbody tr th {\n",
       "        vertical-align: top;\n",
       "    }\n",
       "\n",
       "    .dataframe thead th {\n",
       "        text-align: right;\n",
       "    }\n",
       "</style>\n",
       "<table border=\"1\" class=\"dataframe\">\n",
       "  <thead>\n",
       "    <tr style=\"text-align: right;\">\n",
       "      <th></th>\n",
       "      <th>SIM(1)</th>\n",
       "      <th>NÂO(0)</th>\n",
       "    </tr>\n",
       "  </thead>\n",
       "  <tbody>\n",
       "    <tr>\n",
       "      <th>N.G.C(1)</th>\n",
       "      <td>6</td>\n",
       "      <td>0</td>\n",
       "    </tr>\n",
       "    <tr>\n",
       "      <th>P.G.C(2)</th>\n",
       "      <td>4</td>\n",
       "      <td>7</td>\n",
       "    </tr>\n",
       "    <tr>\n",
       "      <th>S.G.C(3)</th>\n",
       "      <td>13</td>\n",
       "      <td>8</td>\n",
       "    </tr>\n",
       "  </tbody>\n",
       "</table>\n",
       "</div>"
      ],
      "text/plain": [
       "          SIM(1)  NÂO(0)\n",
       "N.G.C(1)       6       0\n",
       "P.G.C(2)       4       7\n",
       "S.G.C(3)      13       8"
      ]
     },
     "execution_count": 5,
     "metadata": {},
     "output_type": "execute_result"
    }
   ],
   "source": [
    "import pandas as pd\n",
    "df=pd.DataFrame({\"SIM(1)\":[6,4,13],\n",
    "\"NÂO(0)\":[0,7,8]},\n",
    "index=['N.G.C(1)','P.G.C(2)','S.G.C(3)'])\n",
    "df"
   ]
  },
  {
   "cell_type": "markdown",
   "id": "174f110c",
   "metadata": {},
   "source": [
    "-----------------"
   ]
  }
 ],
 "metadata": {
  "kernelspec": {
   "display_name": "Python 3 (ipykernel)",
   "language": "python",
   "name": "python3"
  },
  "language_info": {
   "codemirror_mode": {
    "name": "ipython",
    "version": 3
   },
   "file_extension": ".py",
   "mimetype": "text/x-python",
   "name": "python",
   "nbconvert_exporter": "python",
   "pygments_lexer": "ipython3",
   "version": "3.9.7"
  }
 },
 "nbformat": 4,
 "nbformat_minor": 5
}
