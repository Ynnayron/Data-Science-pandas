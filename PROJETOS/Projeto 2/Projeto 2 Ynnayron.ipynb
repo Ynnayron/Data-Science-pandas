{
 "cells": [
  {
   "cell_type": "markdown",
   "metadata": {},
   "source": [
    "<div align=\"center\">\n",
    "<img alt=\"if\" height=\"200\" style=\"border-radius:55px;\" src=https://www.ifpb.edu.br/imagens/logotipos/ifpb-1>\n",
    "\n",
    "# **Estatística Aplicada à Computação**\n",
    "\n",
    "**CURSO BACHARELADO EM ENGENHARIA DE COMPUTAÇÃO**\n",
    "\n",
    "**PROFESSOR:** *PAULO RIBEIRO LINS JUNIOR*\n",
    "\n",
    "**ALUNO:** *Ynnayron Juan Lopes da Silva*\n",
    "\n",
    "# **Projeto II**\n",
    "\n",
    "### **Análise de Atividades Policiais em Rhode Island**"
   ]
  },
  {
   "cell_type": "code",
   "execution_count": 1,
   "metadata": {},
   "outputs": [],
   "source": [
    "#Bibliotecas Usadas no Projeto\n",
    "import pandas as pd\n",
    "import numpy as np\n",
    "import matplotlib as plt"
   ]
  },
  {
   "cell_type": "markdown",
   "metadata": {},
   "source": [
    "--------------------------\n",
    "\n",
    "### **1° Preparação dos dados para a análise**"
   ]
  },
  {
   "cell_type": "markdown",
   "metadata": {},
   "source": [
    "**A) Importe o dataset police.csv, e indique quantas variáveis estão disponíveis e quantos registros policiais estão catalogados;**"
   ]
  },
  {
   "cell_type": "code",
   "execution_count": 3,
   "metadata": {},
   "outputs": [
    {
     "data": {
      "text/html": [
       "<div>\n",
       "<style scoped>\n",
       "    .dataframe tbody tr th:only-of-type {\n",
       "        vertical-align: middle;\n",
       "    }\n",
       "\n",
       "    .dataframe tbody tr th {\n",
       "        vertical-align: top;\n",
       "    }\n",
       "\n",
       "    .dataframe thead th {\n",
       "        text-align: right;\n",
       "    }\n",
       "</style>\n",
       "<table border=\"1\" class=\"dataframe\">\n",
       "  <thead>\n",
       "    <tr style=\"text-align: right;\">\n",
       "      <th></th>\n",
       "      <th>state</th>\n",
       "      <th>stop_date</th>\n",
       "      <th>stop_time</th>\n",
       "      <th>county_name</th>\n",
       "      <th>driver_gender</th>\n",
       "      <th>driver_race</th>\n",
       "      <th>violation_raw</th>\n",
       "      <th>violation</th>\n",
       "      <th>search_conducted</th>\n",
       "      <th>search_type</th>\n",
       "      <th>stop_outcome</th>\n",
       "      <th>is_arrested</th>\n",
       "      <th>stop_duration</th>\n",
       "      <th>drugs_related_stop</th>\n",
       "      <th>district</th>\n",
       "    </tr>\n",
       "  </thead>\n",
       "  <tbody>\n",
       "    <tr>\n",
       "      <th>0</th>\n",
       "      <td>RI</td>\n",
       "      <td>2005-01-04</td>\n",
       "      <td>12:55</td>\n",
       "      <td>NaN</td>\n",
       "      <td>M</td>\n",
       "      <td>White</td>\n",
       "      <td>Equipment/Inspection Violation</td>\n",
       "      <td>Equipment</td>\n",
       "      <td>False</td>\n",
       "      <td>NaN</td>\n",
       "      <td>Citation</td>\n",
       "      <td>False</td>\n",
       "      <td>0-15 Min</td>\n",
       "      <td>False</td>\n",
       "      <td>Zone X4</td>\n",
       "    </tr>\n",
       "    <tr>\n",
       "      <th>1</th>\n",
       "      <td>RI</td>\n",
       "      <td>2005-01-23</td>\n",
       "      <td>23:15</td>\n",
       "      <td>NaN</td>\n",
       "      <td>M</td>\n",
       "      <td>White</td>\n",
       "      <td>Speeding</td>\n",
       "      <td>Speeding</td>\n",
       "      <td>False</td>\n",
       "      <td>NaN</td>\n",
       "      <td>Citation</td>\n",
       "      <td>False</td>\n",
       "      <td>0-15 Min</td>\n",
       "      <td>False</td>\n",
       "      <td>Zone K3</td>\n",
       "    </tr>\n",
       "    <tr>\n",
       "      <th>2</th>\n",
       "      <td>RI</td>\n",
       "      <td>2005-02-17</td>\n",
       "      <td>04:15</td>\n",
       "      <td>NaN</td>\n",
       "      <td>M</td>\n",
       "      <td>White</td>\n",
       "      <td>Speeding</td>\n",
       "      <td>Speeding</td>\n",
       "      <td>False</td>\n",
       "      <td>NaN</td>\n",
       "      <td>Citation</td>\n",
       "      <td>False</td>\n",
       "      <td>0-15 Min</td>\n",
       "      <td>False</td>\n",
       "      <td>Zone X4</td>\n",
       "    </tr>\n",
       "  </tbody>\n",
       "</table>\n",
       "</div>"
      ],
      "text/plain": [
       "  state   stop_date stop_time  county_name driver_gender driver_race  \\\n",
       "0    RI  2005-01-04     12:55          NaN             M       White   \n",
       "1    RI  2005-01-23     23:15          NaN             M       White   \n",
       "2    RI  2005-02-17     04:15          NaN             M       White   \n",
       "\n",
       "                    violation_raw  violation  search_conducted search_type  \\\n",
       "0  Equipment/Inspection Violation  Equipment             False         NaN   \n",
       "1                        Speeding   Speeding             False         NaN   \n",
       "2                        Speeding   Speeding             False         NaN   \n",
       "\n",
       "  stop_outcome is_arrested stop_duration  drugs_related_stop district  \n",
       "0     Citation       False      0-15 Min               False  Zone X4  \n",
       "1     Citation       False      0-15 Min               False  Zone K3  \n",
       "2     Citation       False      0-15 Min               False  Zone X4  "
      ]
     },
     "execution_count": 3,
     "metadata": {},
     "output_type": "execute_result"
    }
   ],
   "source": [
    "police = pd.read_csv(\"police.csv\")\n",
    "police.head(3)"
   ]
  },
  {
   "cell_type": "code",
   "execution_count": 4,
   "metadata": {},
   "outputs": [
    {
     "name": "stdout",
     "output_type": "stream",
     "text": [
      "NESTE DATAFRAME TEMOS 15 VARIAVEIS, NO ENTANTO, APENAS 14 DELAS ESTÃO CATALOGADAS\n"
     ]
    }
   ],
   "source": [
    "quantVar = len(police.columns)\n",
    "quantVarNonNull = len(police.dropna(axis= 1, how='all').columns)\n",
    "print(f\"NESTE DATAFRAME TEMOS {quantVar} VARIAVEIS, NO ENTANTO, APENAS {quantVarNonNull} DELAS ESTÃO CATALOGADAS\")\n",
    "\n"
   ]
  },
  {
   "cell_type": "markdown",
   "metadata": {},
   "source": [
    "**B) Conte o número de dados faltosos de cada variável;**"
   ]
  },
  {
   "cell_type": "code",
   "execution_count": 9,
   "metadata": {},
   "outputs": [
    {
     "data": {
      "text/html": [
       "<div>\n",
       "<style scoped>\n",
       "    .dataframe tbody tr th:only-of-type {\n",
       "        vertical-align: middle;\n",
       "    }\n",
       "\n",
       "    .dataframe tbody tr th {\n",
       "        vertical-align: top;\n",
       "    }\n",
       "\n",
       "    .dataframe thead th {\n",
       "        text-align: right;\n",
       "    }\n",
       "</style>\n",
       "<table border=\"1\" class=\"dataframe\">\n",
       "  <thead>\n",
       "    <tr style=\"text-align: right;\">\n",
       "      <th></th>\n",
       "      <th>Dados Faltosos</th>\n",
       "    </tr>\n",
       "  </thead>\n",
       "  <tbody>\n",
       "    <tr>\n",
       "      <th>state</th>\n",
       "      <td>0</td>\n",
       "    </tr>\n",
       "    <tr>\n",
       "      <th>stop_date</th>\n",
       "      <td>0</td>\n",
       "    </tr>\n",
       "    <tr>\n",
       "      <th>stop_time</th>\n",
       "      <td>0</td>\n",
       "    </tr>\n",
       "    <tr>\n",
       "      <th>county_name</th>\n",
       "      <td>91741</td>\n",
       "    </tr>\n",
       "    <tr>\n",
       "      <th>driver_gender</th>\n",
       "      <td>5205</td>\n",
       "    </tr>\n",
       "    <tr>\n",
       "      <th>driver_race</th>\n",
       "      <td>5202</td>\n",
       "    </tr>\n",
       "    <tr>\n",
       "      <th>violation_raw</th>\n",
       "      <td>5202</td>\n",
       "    </tr>\n",
       "    <tr>\n",
       "      <th>violation</th>\n",
       "      <td>5202</td>\n",
       "    </tr>\n",
       "    <tr>\n",
       "      <th>search_conducted</th>\n",
       "      <td>0</td>\n",
       "    </tr>\n",
       "    <tr>\n",
       "      <th>search_type</th>\n",
       "      <td>88434</td>\n",
       "    </tr>\n",
       "    <tr>\n",
       "      <th>stop_outcome</th>\n",
       "      <td>5202</td>\n",
       "    </tr>\n",
       "    <tr>\n",
       "      <th>is_arrested</th>\n",
       "      <td>5202</td>\n",
       "    </tr>\n",
       "    <tr>\n",
       "      <th>stop_duration</th>\n",
       "      <td>5202</td>\n",
       "    </tr>\n",
       "    <tr>\n",
       "      <th>drugs_related_stop</th>\n",
       "      <td>0</td>\n",
       "    </tr>\n",
       "    <tr>\n",
       "      <th>district</th>\n",
       "      <td>0</td>\n",
       "    </tr>\n",
       "  </tbody>\n",
       "</table>\n",
       "</div>"
      ],
      "text/plain": [
       "                    Dados Faltosos\n",
       "state                            0\n",
       "stop_date                        0\n",
       "stop_time                        0\n",
       "county_name                  91741\n",
       "driver_gender                 5205\n",
       "driver_race                   5202\n",
       "violation_raw                 5202\n",
       "violation                     5202\n",
       "search_conducted                 0\n",
       "search_type                  88434\n",
       "stop_outcome                  5202\n",
       "is_arrested                   5202\n",
       "stop_duration                 5202\n",
       "drugs_related_stop               0\n",
       "district                         0"
      ]
     },
     "execution_count": 9,
     "metadata": {},
     "output_type": "execute_result"
    }
   ],
   "source": [
    "df=police.isnull().sum()\n",
    "dtf=pd.DataFrame(df).rename(columns={0: 'Dados Faltosos'})\n",
    "dtf"
   ]
  },
  {
   "cell_type": "markdown",
   "metadata": {},
   "source": [
    "**C) Como estamos trabalhando somente com dados de um único estado, não faz sentido\n",
    "mantermos informações de variáveis como county_name e state. Exclua essas variáveis\n",
    "do conjunto;**"
   ]
  },
  {
   "cell_type": "code",
   "execution_count": 152,
   "metadata": {},
   "outputs": [
    {
     "data": {
      "text/html": [
       "<div>\n",
       "<style scoped>\n",
       "    .dataframe tbody tr th:only-of-type {\n",
       "        vertical-align: middle;\n",
       "    }\n",
       "\n",
       "    .dataframe tbody tr th {\n",
       "        vertical-align: top;\n",
       "    }\n",
       "\n",
       "    .dataframe thead th {\n",
       "        text-align: right;\n",
       "    }\n",
       "</style>\n",
       "<table border=\"1\" class=\"dataframe\">\n",
       "  <thead>\n",
       "    <tr style=\"text-align: right;\">\n",
       "      <th></th>\n",
       "      <th>stop_date</th>\n",
       "      <th>stop_time</th>\n",
       "      <th>driver_gender</th>\n",
       "      <th>driver_race</th>\n",
       "      <th>violation_raw</th>\n",
       "      <th>violation</th>\n",
       "      <th>search_conducted</th>\n",
       "      <th>search_type</th>\n",
       "      <th>stop_outcome</th>\n",
       "      <th>is_arrested</th>\n",
       "      <th>stop_duration</th>\n",
       "      <th>drugs_related_stop</th>\n",
       "      <th>district</th>\n",
       "    </tr>\n",
       "  </thead>\n",
       "  <tbody>\n",
       "    <tr>\n",
       "      <th>0</th>\n",
       "      <td>2005-01-04</td>\n",
       "      <td>12:55</td>\n",
       "      <td>M</td>\n",
       "      <td>White</td>\n",
       "      <td>Equipment/Inspection Violation</td>\n",
       "      <td>Equipment</td>\n",
       "      <td>False</td>\n",
       "      <td>NaN</td>\n",
       "      <td>Citation</td>\n",
       "      <td>False</td>\n",
       "      <td>0-15 Min</td>\n",
       "      <td>False</td>\n",
       "      <td>Zone X4</td>\n",
       "    </tr>\n",
       "    <tr>\n",
       "      <th>1</th>\n",
       "      <td>2005-01-23</td>\n",
       "      <td>23:15</td>\n",
       "      <td>M</td>\n",
       "      <td>White</td>\n",
       "      <td>Speeding</td>\n",
       "      <td>Speeding</td>\n",
       "      <td>False</td>\n",
       "      <td>NaN</td>\n",
       "      <td>Citation</td>\n",
       "      <td>False</td>\n",
       "      <td>0-15 Min</td>\n",
       "      <td>False</td>\n",
       "      <td>Zone K3</td>\n",
       "    </tr>\n",
       "    <tr>\n",
       "      <th>2</th>\n",
       "      <td>2005-02-17</td>\n",
       "      <td>04:15</td>\n",
       "      <td>M</td>\n",
       "      <td>White</td>\n",
       "      <td>Speeding</td>\n",
       "      <td>Speeding</td>\n",
       "      <td>False</td>\n",
       "      <td>NaN</td>\n",
       "      <td>Citation</td>\n",
       "      <td>False</td>\n",
       "      <td>0-15 Min</td>\n",
       "      <td>False</td>\n",
       "      <td>Zone X4</td>\n",
       "    </tr>\n",
       "  </tbody>\n",
       "</table>\n",
       "</div>"
      ],
      "text/plain": [
       "    stop_date stop_time driver_gender driver_race  \\\n",
       "0  2005-01-04     12:55             M       White   \n",
       "1  2005-01-23     23:15             M       White   \n",
       "2  2005-02-17     04:15             M       White   \n",
       "\n",
       "                    violation_raw  violation  search_conducted search_type  \\\n",
       "0  Equipment/Inspection Violation  Equipment             False         NaN   \n",
       "1                        Speeding   Speeding             False         NaN   \n",
       "2                        Speeding   Speeding             False         NaN   \n",
       "\n",
       "  stop_outcome is_arrested stop_duration  drugs_related_stop district  \n",
       "0     Citation       False      0-15 Min               False  Zone X4  \n",
       "1     Citation       False      0-15 Min               False  Zone K3  \n",
       "2     Citation       False      0-15 Min               False  Zone X4  "
      ]
     },
     "execution_count": 152,
     "metadata": {},
     "output_type": "execute_result"
    }
   ],
   "source": [
    "police.drop(['state', 'county_name'], axis= 'columns', inplace= True)\n",
    "police.head(3)"
   ]
  },
  {
   "cell_type": "markdown",
   "metadata": {},
   "source": [
    "Removi essas Variaveis Usando a Função \".drop\" e indicando quais colunas eu desejo apagar"
   ]
  },
  {
   "cell_type": "markdown",
   "metadata": {},
   "source": [
    "**D) Durante as análises, a coluna driver_gender será crítica para muitas de suas análises.\n",
    "Como apenas uma pequena fração das linhas está faltando driver_gender, remova\n",
    "essas linhas do conjunto de dados;**"
   ]
  },
  {
   "cell_type": "code",
   "execution_count": 10,
   "metadata": {},
   "outputs": [
    {
     "data": {
      "text/plain": [
       "0"
      ]
     },
     "execution_count": 10,
     "metadata": {},
     "output_type": "execute_result"
    }
   ],
   "source": [
    "police.dropna(axis= 0, how= 'any', inplace=True, subset= ['driver_gender'])\n",
    "police['driver_gender'].isna().sum()"
   ]
  },
  {
   "cell_type": "markdown",
   "metadata": {},
   "source": [
    "**E)Vá na descrição dos dados e verifique que tipo de variável são search_conducted, is_arrested e district; depois compare com os tipos de dados que estão armazenados no conjunto de dados. Havendo necessidade, faça a modificação dos tipos de dados\n",
    "para essas variáveis;**"
   ]
  },
  {
   "cell_type": "code",
   "execution_count": 154,
   "metadata": {},
   "outputs": [
    {
     "name": "stdout",
     "output_type": "stream",
     "text": [
      "<class 'pandas.core.frame.DataFrame'>\n",
      "Int64Index: 86536 entries, 0 to 91740\n",
      "Data columns (total 13 columns):\n",
      " #   Column              Non-Null Count  Dtype \n",
      "---  ------              --------------  ----- \n",
      " 0   stop_date           86536 non-null  object\n",
      " 1   stop_time           86536 non-null  object\n",
      " 2   driver_gender       86536 non-null  object\n",
      " 3   driver_race         86536 non-null  object\n",
      " 4   violation_raw       86536 non-null  object\n",
      " 5   violation           86536 non-null  object\n",
      " 6   search_conducted    86536 non-null  bool  \n",
      " 7   search_type         3307 non-null   object\n",
      " 8   stop_outcome        86536 non-null  object\n",
      " 9   is_arrested         86536 non-null  object\n",
      " 10  stop_duration       86536 non-null  object\n",
      " 11  drugs_related_stop  86536 non-null  bool  \n",
      " 12  district            86536 non-null  object\n",
      "dtypes: bool(2), object(11)\n",
      "memory usage: 8.1+ MB\n"
     ]
    }
   ],
   "source": [
    "police.info()"
   ]
  },
  {
   "cell_type": "markdown",
   "metadata": {},
   "source": [
    "Essas Variaveis são do tipo boleano ou seja elas retornam apenas verdadeiro ou falso sendo um variaveis quantitativa "
   ]
  },
  {
   "cell_type": "markdown",
   "metadata": {},
   "source": [
    "**F) A data e a hora de cada parada de tráfego estão armazenadas em colunas separadas:\n",
    "stop_date e stop_time. Combine essas duas colunas em uma única coluna, nomeandoa como stop_datetime e converta no formato data e hora (tipo datetime). Isso habilitará atributos baseados em data convenientes que usaremos posteriormente no projeto;**"
   ]
  },
  {
   "cell_type": "code",
   "execution_count": 15,
   "metadata": {},
   "outputs": [
    {
     "data": {
      "text/html": [
       "<div>\n",
       "<style scoped>\n",
       "    .dataframe tbody tr th:only-of-type {\n",
       "        vertical-align: middle;\n",
       "    }\n",
       "\n",
       "    .dataframe tbody tr th {\n",
       "        vertical-align: top;\n",
       "    }\n",
       "\n",
       "    .dataframe thead th {\n",
       "        text-align: right;\n",
       "    }\n",
       "</style>\n",
       "<table border=\"1\" class=\"dataframe\">\n",
       "  <thead>\n",
       "    <tr style=\"text-align: right;\">\n",
       "      <th></th>\n",
       "      <th>stop_datetime</th>\n",
       "    </tr>\n",
       "  </thead>\n",
       "  <tbody>\n",
       "    <tr>\n",
       "      <th>0</th>\n",
       "      <td>2005-01-04 12:55:00</td>\n",
       "    </tr>\n",
       "    <tr>\n",
       "      <th>1</th>\n",
       "      <td>2005-01-23 23:15:00</td>\n",
       "    </tr>\n",
       "    <tr>\n",
       "      <th>2</th>\n",
       "      <td>2005-02-17 04:15:00</td>\n",
       "    </tr>\n",
       "    <tr>\n",
       "      <th>3</th>\n",
       "      <td>2005-02-20 17:15:00</td>\n",
       "    </tr>\n",
       "    <tr>\n",
       "      <th>4</th>\n",
       "      <td>2005-02-24 01:20:00</td>\n",
       "    </tr>\n",
       "    <tr>\n",
       "      <th>...</th>\n",
       "      <td>...</td>\n",
       "    </tr>\n",
       "    <tr>\n",
       "      <th>91736</th>\n",
       "      <td>2015-12-31 21:21:00</td>\n",
       "    </tr>\n",
       "    <tr>\n",
       "      <th>91737</th>\n",
       "      <td>2015-12-31 21:59:00</td>\n",
       "    </tr>\n",
       "    <tr>\n",
       "      <th>91738</th>\n",
       "      <td>2015-12-31 22:04:00</td>\n",
       "    </tr>\n",
       "    <tr>\n",
       "      <th>91739</th>\n",
       "      <td>2015-12-31 22:09:00</td>\n",
       "    </tr>\n",
       "    <tr>\n",
       "      <th>91740</th>\n",
       "      <td>2015-12-31 22:47:00</td>\n",
       "    </tr>\n",
       "  </tbody>\n",
       "</table>\n",
       "<p>86536 rows × 1 columns</p>\n",
       "</div>"
      ],
      "text/plain": [
       "            stop_datetime\n",
       "0     2005-01-04 12:55:00\n",
       "1     2005-01-23 23:15:00\n",
       "2     2005-02-17 04:15:00\n",
       "3     2005-02-20 17:15:00\n",
       "4     2005-02-24 01:20:00\n",
       "...                   ...\n",
       "91736 2015-12-31 21:21:00\n",
       "91737 2015-12-31 21:59:00\n",
       "91738 2015-12-31 22:04:00\n",
       "91739 2015-12-31 22:09:00\n",
       "91740 2015-12-31 22:47:00\n",
       "\n",
       "[86536 rows x 1 columns]"
      ]
     },
     "execution_count": 15,
     "metadata": {},
     "output_type": "execute_result"
    }
   ],
   "source": [
    "df= police['stop_datetime'] = police['stop_date'] + \" \" + police['stop_time']\n",
    "df= police['stop_datetime'] = pd.to_datetime(police['stop_datetime'])\n",
    "dft=pd.DataFrame(df)\n",
    "dft"
   ]
  },
  {
   "cell_type": "markdown",
   "metadata": {},
   "source": [
    "**G) Por fim, transforme a coluna stop_datetime no índice do dataframe.**"
   ]
  },
  {
   "cell_type": "code",
   "execution_count": 16,
   "metadata": {},
   "outputs": [
    {
     "data": {
      "text/html": [
       "<div>\n",
       "<style scoped>\n",
       "    .dataframe tbody tr th:only-of-type {\n",
       "        vertical-align: middle;\n",
       "    }\n",
       "\n",
       "    .dataframe tbody tr th {\n",
       "        vertical-align: top;\n",
       "    }\n",
       "\n",
       "    .dataframe thead th {\n",
       "        text-align: right;\n",
       "    }\n",
       "</style>\n",
       "<table border=\"1\" class=\"dataframe\">\n",
       "  <thead>\n",
       "    <tr style=\"text-align: right;\">\n",
       "      <th></th>\n",
       "      <th>state</th>\n",
       "      <th>stop_date</th>\n",
       "      <th>stop_time</th>\n",
       "      <th>county_name</th>\n",
       "      <th>driver_gender</th>\n",
       "      <th>driver_race</th>\n",
       "      <th>violation_raw</th>\n",
       "      <th>violation</th>\n",
       "      <th>search_conducted</th>\n",
       "      <th>search_type</th>\n",
       "      <th>stop_outcome</th>\n",
       "      <th>is_arrested</th>\n",
       "      <th>stop_duration</th>\n",
       "      <th>drugs_related_stop</th>\n",
       "      <th>district</th>\n",
       "    </tr>\n",
       "    <tr>\n",
       "      <th>stop_datetime</th>\n",
       "      <th></th>\n",
       "      <th></th>\n",
       "      <th></th>\n",
       "      <th></th>\n",
       "      <th></th>\n",
       "      <th></th>\n",
       "      <th></th>\n",
       "      <th></th>\n",
       "      <th></th>\n",
       "      <th></th>\n",
       "      <th></th>\n",
       "      <th></th>\n",
       "      <th></th>\n",
       "      <th></th>\n",
       "      <th></th>\n",
       "    </tr>\n",
       "  </thead>\n",
       "  <tbody>\n",
       "    <tr>\n",
       "      <th>2005-01-04 12:55:00</th>\n",
       "      <td>RI</td>\n",
       "      <td>2005-01-04</td>\n",
       "      <td>12:55</td>\n",
       "      <td>NaN</td>\n",
       "      <td>M</td>\n",
       "      <td>White</td>\n",
       "      <td>Equipment/Inspection Violation</td>\n",
       "      <td>Equipment</td>\n",
       "      <td>False</td>\n",
       "      <td>NaN</td>\n",
       "      <td>Citation</td>\n",
       "      <td>False</td>\n",
       "      <td>0-15 Min</td>\n",
       "      <td>False</td>\n",
       "      <td>Zone X4</td>\n",
       "    </tr>\n",
       "    <tr>\n",
       "      <th>2005-01-23 23:15:00</th>\n",
       "      <td>RI</td>\n",
       "      <td>2005-01-23</td>\n",
       "      <td>23:15</td>\n",
       "      <td>NaN</td>\n",
       "      <td>M</td>\n",
       "      <td>White</td>\n",
       "      <td>Speeding</td>\n",
       "      <td>Speeding</td>\n",
       "      <td>False</td>\n",
       "      <td>NaN</td>\n",
       "      <td>Citation</td>\n",
       "      <td>False</td>\n",
       "      <td>0-15 Min</td>\n",
       "      <td>False</td>\n",
       "      <td>Zone K3</td>\n",
       "    </tr>\n",
       "    <tr>\n",
       "      <th>2005-02-17 04:15:00</th>\n",
       "      <td>RI</td>\n",
       "      <td>2005-02-17</td>\n",
       "      <td>04:15</td>\n",
       "      <td>NaN</td>\n",
       "      <td>M</td>\n",
       "      <td>White</td>\n",
       "      <td>Speeding</td>\n",
       "      <td>Speeding</td>\n",
       "      <td>False</td>\n",
       "      <td>NaN</td>\n",
       "      <td>Citation</td>\n",
       "      <td>False</td>\n",
       "      <td>0-15 Min</td>\n",
       "      <td>False</td>\n",
       "      <td>Zone X4</td>\n",
       "    </tr>\n",
       "  </tbody>\n",
       "</table>\n",
       "</div>"
      ],
      "text/plain": [
       "                    state   stop_date stop_time  county_name driver_gender  \\\n",
       "stop_datetime                                                                \n",
       "2005-01-04 12:55:00    RI  2005-01-04     12:55          NaN             M   \n",
       "2005-01-23 23:15:00    RI  2005-01-23     23:15          NaN             M   \n",
       "2005-02-17 04:15:00    RI  2005-02-17     04:15          NaN             M   \n",
       "\n",
       "                    driver_race                   violation_raw  violation  \\\n",
       "stop_datetime                                                                \n",
       "2005-01-04 12:55:00       White  Equipment/Inspection Violation  Equipment   \n",
       "2005-01-23 23:15:00       White                        Speeding   Speeding   \n",
       "2005-02-17 04:15:00       White                        Speeding   Speeding   \n",
       "\n",
       "                     search_conducted search_type stop_outcome is_arrested  \\\n",
       "stop_datetime                                                                \n",
       "2005-01-04 12:55:00             False         NaN     Citation       False   \n",
       "2005-01-23 23:15:00             False         NaN     Citation       False   \n",
       "2005-02-17 04:15:00             False         NaN     Citation       False   \n",
       "\n",
       "                    stop_duration  drugs_related_stop district  \n",
       "stop_datetime                                                   \n",
       "2005-01-04 12:55:00      0-15 Min               False  Zone X4  \n",
       "2005-01-23 23:15:00      0-15 Min               False  Zone K3  \n",
       "2005-02-17 04:15:00      0-15 Min               False  Zone X4  "
      ]
     },
     "execution_count": 16,
     "metadata": {},
     "output_type": "execute_result"
    }
   ],
   "source": [
    "cpyDate = police['stop_datetime']\n",
    "police.set_index('stop_datetime', inplace= True)\n",
    "police.head(3)"
   ]
  },
  {
   "cell_type": "markdown",
   "metadata": {},
   "source": [
    "--------------------------\n",
    "\n",
    "### **2. Análise do gênero sobre as infrações**"
   ]
  },
  {
   "cell_type": "code",
   "execution_count": 19,
   "metadata": {},
   "outputs": [],
   "source": [
    "def relativeFrequency(absoluteFrequency : np.ndarray) -> np.ndarray:\n",
    "    \"\"\"retorna a frequencia relativa\n",
    "\n",
    "    Args:\n",
    "        absoluteFrequency (np.ndarray): frequencia absoluta\n",
    "\n",
    "    Returns:\n",
    "        np.ndarray: array com a frequencia relativa\n",
    "    \"\"\"\n",
    "    return np.around(absoluteFrequency/absoluteFrequency.sum()*100, decimals = 2)\n",
    "\n",
    "\n",
    "def tableAndGraficQuality(column: str, dataframe: pd.DataFrame) -> pd.DataFrame:\n",
    "    \"\"\"Funcao responsavel por automatizar a formacao de tabela qualitativas\n",
    "\n",
    "    Args:\n",
    "        column (str): nome da coluna do df\n",
    "        dataframe (pd.DataFrame): dataframe com os dados usados\n",
    "    \"\"\"\n",
    "\n",
    "    # informacao da coluna em questao\n",
    "    List = dataframe[column]\n",
    "\n",
    "    # frequencia absoluta\n",
    "    absoluteFrequency = List.value_counts()\n",
    "    # frequencia relativa\n",
    "    relativeFrequencyVar = relativeFrequency(absoluteFrequency)\n",
    "\n",
    "    # tabela\n",
    "    table = pd.DataFrame({column.capitalize(): absoluteFrequency.keys(), \"Frequancia absoluta\": absoluteFrequency, \"Frequencia relativa %\": relativeFrequencyVar}).set_index(column.capitalize())\n",
    "\n",
    "    # plotagem da tabela e do grafico\n",
    "    display(table)\n",
    "    return table\n",
    "    # table.plot(kind = \"barh\", subplots = True, sharex = False, title = \"Frequencias\", legend = False, figsize = (7.5,7.5))\n",
    "\n",
    "\n",
    "def tableAndGraficQuantity(column: str, dataframe: pd.DataFrame,  relativeFrequencyOpt: bool = True, binsVar: int = 5) -> None:\n",
    "    \"\"\" Funcao responsavel por montar graficos e tabelas de variaveis quantitativas, ou qualitativas ordinais\n",
    "\n",
    "    Args:\n",
    "        column (str): nome da coluna usada se o dado inserido for um df\n",
    "        dataframe (pd.DataFrame): estrutura de dados usada na analise\n",
    "        relativeFrequencyOpt (bool, optional): caso voce queira a frequancia relativa. Padrao para True.\n",
    "        binsVar (int, optional): quantidade de itens que voce quer na distribuicao de frequencias. Padrao para 5.\n",
    "    \"\"\"\n",
    "\n",
    "    # se a estrutura inserida for um df...\n",
    "    if type(dataframe) == pd.DataFrame:\n",
    "        # a coluna em questao eh chamada\n",
    "        List = dataframe[column]\n",
    "    # caso contrario...\n",
    "    else:\n",
    "        # a propria estrutura eh usada\n",
    "        # pois, como nao ha colunas a serem chamadas\n",
    "        # presume-se que os dados ja estao disponiveis \n",
    "        List = dataframe\n",
    "\n",
    "    # distribuicao de frequencias\n",
    "    absoluteFrequency, tableClass = np.histogram(List, bins= binsVar)\n",
    "\n",
    "    # lista vazia com as classes organizadas em strings\n",
    "    # # exemplo -> classe 1 |-- classe 2\n",
    "    listTableClass = []\n",
    "\n",
    "    # iteracao necessaria para montar as strings de cada classe\n",
    "    for i in range(len(tableClass)):\n",
    "        # condicional que verifica o limite da lista\n",
    "        # se i estiver numa posicao alem da penultima\n",
    "        # o codigo plota um IndexError\n",
    "        if i<=len(tableClass)-2:\n",
    "            listTableClass.append('{:.2f} |-- {:2.2f}' .format(tableClass[i], tableClass[i+1]))\n",
    "        # se i estiver na ultima posicao...\n",
    "        else:\n",
    "            # o laco eh quebrado\n",
    "            break\n",
    "\n",
    "    # formacao da tabela\n",
    "    table = pd.DataFrame({'Classes': listTableClass, \n",
    "                        'Frequencia absoluta': absoluteFrequency,\n",
    "                        }).set_index(\"Classes\")\n",
    "\n",
    "    # se a frequencia relativa for pedida...\n",
    "    if relativeFrequencyOpt == True:\n",
    "        # ela eh calculada...\n",
    "        relativeFrequencyVar = relativeFrequency(absoluteFrequency)\n",
    "\n",
    "        # e inserida na tabela de frequencias\n",
    "        table['Frequencia relativa %'] = relativeFrequencyVar\n",
    "\n",
    "    # plotagem da tabela e do grafico\n",
    "    display(table)\n",
    "    table.plot(kind = \"barh\", subplots = True, sharex = False, title = \"Frequencias\", legend = False, figsize = (7.5,7.5))"
   ]
  },
  {
   "cell_type": "markdown",
   "metadata": {},
   "source": [
    "**A) Antes de comparar as infrações cometidas por cada gênero, você deve examinar as infrações cometidas por todos os motoristas para obter uma compreensão básica dos dados.\n",
    "Construa uma distribuição de frequências da variável violation e responda: qual a\n",
    "infração mais comum e a menos notificada?**\n"
   ]
  },
  {
   "cell_type": "code",
   "execution_count": 22,
   "metadata": {},
   "outputs": [
    {
     "data": {
      "text/html": [
       "<div>\n",
       "<style scoped>\n",
       "    .dataframe tbody tr th:only-of-type {\n",
       "        vertical-align: middle;\n",
       "    }\n",
       "\n",
       "    .dataframe tbody tr th {\n",
       "        vertical-align: top;\n",
       "    }\n",
       "\n",
       "    .dataframe thead th {\n",
       "        text-align: right;\n",
       "    }\n",
       "</style>\n",
       "<table border=\"1\" class=\"dataframe\">\n",
       "  <thead>\n",
       "    <tr style=\"text-align: right;\">\n",
       "      <th></th>\n",
       "      <th>Frequancia absoluta</th>\n",
       "      <th>Frequencia relativa %</th>\n",
       "    </tr>\n",
       "    <tr>\n",
       "      <th>Violation</th>\n",
       "      <th></th>\n",
       "      <th></th>\n",
       "    </tr>\n",
       "  </thead>\n",
       "  <tbody>\n",
       "    <tr>\n",
       "      <th>Speeding</th>\n",
       "      <td>48423</td>\n",
       "      <td>55.96</td>\n",
       "    </tr>\n",
       "    <tr>\n",
       "      <th>Moving violation</th>\n",
       "      <td>16224</td>\n",
       "      <td>18.75</td>\n",
       "    </tr>\n",
       "    <tr>\n",
       "      <th>Equipment</th>\n",
       "      <td>10921</td>\n",
       "      <td>12.62</td>\n",
       "    </tr>\n",
       "    <tr>\n",
       "      <th>Other</th>\n",
       "      <td>4409</td>\n",
       "      <td>5.09</td>\n",
       "    </tr>\n",
       "    <tr>\n",
       "      <th>Registration/plates</th>\n",
       "      <td>3703</td>\n",
       "      <td>4.28</td>\n",
       "    </tr>\n",
       "    <tr>\n",
       "      <th>Seat belt</th>\n",
       "      <td>2856</td>\n",
       "      <td>3.30</td>\n",
       "    </tr>\n",
       "  </tbody>\n",
       "</table>\n",
       "</div>"
      ],
      "text/plain": [
       "                     Frequancia absoluta  Frequencia relativa %\n",
       "Violation                                                      \n",
       "Speeding                           48423                  55.96\n",
       "Moving violation                   16224                  18.75\n",
       "Equipment                          10921                  12.62\n",
       "Other                               4409                   5.09\n",
       "Registration/plates                 3703                   4.28\n",
       "Seat belt                           2856                   3.30"
      ]
     },
     "metadata": {},
     "output_type": "display_data"
    },
    {
     "name": "stdout",
     "output_type": "stream",
     "text": [
      "A INFRAÇÃO MAIS COMUM E A  'Speeding' eE A MENOS REPORTADA E 'Seat belt'\n"
     ]
    }
   ],
   "source": [
    "table1 = tableAndGraficQuality('violation', police)\n",
    "indexes = list(table1.index)\n",
    "\n",
    "print(f\"A INFRAÇÃO MAIS COMUM E A  '{indexes[0]}' eE A MENOS REPORTADA E '{indexes[-1]}'\")"
   ]
  },
  {
   "cell_type": "markdown",
   "metadata": {},
   "source": [
    "**B) O interesse agora é responder a seguinte questão: motoristas do sexo masculino e feminino tendem a cometer diferentes tipos de infrações de trânsito? Para isso, crie uma tabela\n",
    "de contingência para frequência absoluta e outra para frequência relativa, contendo a\n",
    "distribuição conjunta das variáveis driver_gender e violation**"
   ]
  },
  {
   "cell_type": "code",
   "execution_count": 159,
   "metadata": {},
   "outputs": [
    {
     "data": {
      "text/html": [
       "<div>\n",
       "<style scoped>\n",
       "    .dataframe tbody tr th:only-of-type {\n",
       "        vertical-align: middle;\n",
       "    }\n",
       "\n",
       "    .dataframe tbody tr th {\n",
       "        vertical-align: top;\n",
       "    }\n",
       "\n",
       "    .dataframe thead th {\n",
       "        text-align: right;\n",
       "    }\n",
       "</style>\n",
       "<table border=\"1\" class=\"dataframe\">\n",
       "  <thead>\n",
       "    <tr style=\"text-align: right;\">\n",
       "      <th></th>\n",
       "      <th>Feminino</th>\n",
       "      <th>Masculino</th>\n",
       "      <th>Total</th>\n",
       "    </tr>\n",
       "    <tr>\n",
       "      <th></th>\n",
       "      <th></th>\n",
       "      <th></th>\n",
       "      <th></th>\n",
       "    </tr>\n",
       "  </thead>\n",
       "  <tbody>\n",
       "    <tr>\n",
       "      <th>Equipment</th>\n",
       "      <td>2501</td>\n",
       "      <td>8420</td>\n",
       "      <td>10921</td>\n",
       "    </tr>\n",
       "    <tr>\n",
       "      <th>Moving violation</th>\n",
       "      <td>3286</td>\n",
       "      <td>12938</td>\n",
       "      <td>16224</td>\n",
       "    </tr>\n",
       "    <tr>\n",
       "      <th>Other</th>\n",
       "      <td>707</td>\n",
       "      <td>3702</td>\n",
       "      <td>4409</td>\n",
       "    </tr>\n",
       "    <tr>\n",
       "      <th>Registration/plates</th>\n",
       "      <td>1056</td>\n",
       "      <td>2647</td>\n",
       "      <td>3703</td>\n",
       "    </tr>\n",
       "    <tr>\n",
       "      <th>Seat belt</th>\n",
       "      <td>578</td>\n",
       "      <td>2278</td>\n",
       "      <td>2856</td>\n",
       "    </tr>\n",
       "    <tr>\n",
       "      <th>Speeding</th>\n",
       "      <td>15646</td>\n",
       "      <td>32777</td>\n",
       "      <td>48423</td>\n",
       "    </tr>\n",
       "    <tr>\n",
       "      <th>All</th>\n",
       "      <td>23774</td>\n",
       "      <td>62762</td>\n",
       "      <td>86536</td>\n",
       "    </tr>\n",
       "  </tbody>\n",
       "</table>\n",
       "</div>"
      ],
      "text/plain": [
       "                     Feminino  Masculino  Total\n",
       "                                               \n",
       "Equipment                2501       8420  10921\n",
       "Moving violation         3286      12938  16224\n",
       "Other                     707       3702   4409\n",
       "Registration/plates      1056       2647   3703\n",
       "Seat belt                 578       2278   2856\n",
       "Speeding                15646      32777  48423\n",
       "All                     23774      62762  86536"
      ]
     },
     "metadata": {},
     "output_type": "display_data"
    },
    {
     "data": {
      "text/html": [
       "<div>\n",
       "<style scoped>\n",
       "    .dataframe tbody tr th:only-of-type {\n",
       "        vertical-align: middle;\n",
       "    }\n",
       "\n",
       "    .dataframe tbody tr th {\n",
       "        vertical-align: top;\n",
       "    }\n",
       "\n",
       "    .dataframe thead th {\n",
       "        text-align: right;\n",
       "    }\n",
       "</style>\n",
       "<table border=\"1\" class=\"dataframe\">\n",
       "  <thead>\n",
       "    <tr style=\"text-align: right;\">\n",
       "      <th></th>\n",
       "      <th>Feminino %</th>\n",
       "      <th>Masculino %</th>\n",
       "      <th>Total %</th>\n",
       "    </tr>\n",
       "    <tr>\n",
       "      <th></th>\n",
       "      <th></th>\n",
       "      <th></th>\n",
       "      <th></th>\n",
       "    </tr>\n",
       "  </thead>\n",
       "  <tbody>\n",
       "    <tr>\n",
       "      <th>Equipment</th>\n",
       "      <td>2.89</td>\n",
       "      <td>9.73</td>\n",
       "      <td>12.62</td>\n",
       "    </tr>\n",
       "    <tr>\n",
       "      <th>Moving violation</th>\n",
       "      <td>3.80</td>\n",
       "      <td>14.95</td>\n",
       "      <td>18.75</td>\n",
       "    </tr>\n",
       "    <tr>\n",
       "      <th>Other</th>\n",
       "      <td>0.82</td>\n",
       "      <td>4.28</td>\n",
       "      <td>5.09</td>\n",
       "    </tr>\n",
       "    <tr>\n",
       "      <th>Registration/plates</th>\n",
       "      <td>1.22</td>\n",
       "      <td>3.06</td>\n",
       "      <td>4.28</td>\n",
       "    </tr>\n",
       "    <tr>\n",
       "      <th>Seat belt</th>\n",
       "      <td>0.67</td>\n",
       "      <td>2.63</td>\n",
       "      <td>3.30</td>\n",
       "    </tr>\n",
       "    <tr>\n",
       "      <th>Speeding</th>\n",
       "      <td>18.08</td>\n",
       "      <td>37.88</td>\n",
       "      <td>55.96</td>\n",
       "    </tr>\n",
       "    <tr>\n",
       "      <th>All</th>\n",
       "      <td>27.47</td>\n",
       "      <td>72.53</td>\n",
       "      <td>100.00</td>\n",
       "    </tr>\n",
       "  </tbody>\n",
       "</table>\n",
       "</div>"
      ],
      "text/plain": [
       "                     Feminino %  Masculino %  Total %\n",
       "                                                     \n",
       "Equipment                  2.89         9.73    12.62\n",
       "Moving violation           3.80        14.95    18.75\n",
       "Other                      0.82         4.28     5.09\n",
       "Registration/plates        1.22         3.06     4.28\n",
       "Seat belt                  0.67         2.63     3.30\n",
       "Speeding                  18.08        37.88    55.96\n",
       "All                       27.47        72.53   100.00"
      ]
     },
     "execution_count": 159,
     "metadata": {},
     "output_type": "execute_result"
    }
   ],
   "source": [
    "pd.options.display.float_format = '{:,.2f}'.format\n",
    "\n",
    "tableInt = pd.crosstab(police['violation'], police['driver_gender'], margins= True, rownames= [''])\n",
    "tableFloat = pd.crosstab(police['violation'], police['driver_gender'], margins= True, rownames= [''], normalize=True) * 100\n",
    "\n",
    "tableInt.columns = ['Feminino', 'Masculino', 'Total']\n",
    "tableFloat.columns = ['Feminino %', 'Masculino %', 'Total %']\n",
    "\n",
    "display(tableInt)\n",
    "tableFloat"
   ]
  },
  {
   "cell_type": "markdown",
   "metadata": {},
   "source": [
    "**C) Construa um gráfico de barras agrupadas para ilustrar os dados das tabelas de contingência construídas;**"
   ]
  },
  {
   "cell_type": "code",
   "execution_count": 160,
   "metadata": {},
   "outputs": [
    {
     "data": {
      "text/plain": [
       "<AxesSubplot:>"
      ]
     },
     "execution_count": 160,
     "metadata": {},
     "output_type": "execute_result"
    },
    {
     "data": {
      "image/png": "[encoded data removed]",
      "text/plain": [
       "<Figure size 432x288 with 1 Axes>"
      ]
     },
     "metadata": {
      "needs_background": "light"
     },
     "output_type": "display_data"
    },
    {
     "data": {
      "image/png": "[encoded data removed]",
      "text/plain": [
       "<Figure size 432x288 with 1 Axes>"
      ]
     },
     "metadata": {
      "needs_background": "light"
     },
     "output_type": "display_data"
    }
   ],
   "source": [
    "tableInt.plot.bar(stacked = True)\n",
    "tableFloat.plot.bar(stacked = True)"
   ]
  },
  {
   "cell_type": "markdown",
   "metadata": {},
   "source": [
    "**D) Quando um motorista é parado por excesso de velocidade, muitas pessoas acreditam que\n",
    "o gênero influencia se o motorista receberá uma multa ou um aviso. Você pode encontrar\n",
    "evidências disso no conjunto de dados? Para tentar responder essa pergunta, crie uma\n",
    "tabela de contingência considerando as variáveis driver_gender e stop_outcome e\n",
    "então vai comparar a porcentagem de paradas resultados de uma \"Citation\"versus um\n",
    "\"Warning\"**"
   ]
  },
  {
   "cell_type": "code",
   "execution_count": 23,
   "metadata": {},
   "outputs": [
    {
     "data": {
      "text/html": [
       "<div>\n",
       "<style scoped>\n",
       "    .dataframe tbody tr th:only-of-type {\n",
       "        vertical-align: middle;\n",
       "    }\n",
       "\n",
       "    .dataframe tbody tr th {\n",
       "        vertical-align: top;\n",
       "    }\n",
       "\n",
       "    .dataframe thead th {\n",
       "        text-align: right;\n",
       "    }\n",
       "</style>\n",
       "<table border=\"1\" class=\"dataframe\">\n",
       "  <thead>\n",
       "    <tr style=\"text-align: right;\">\n",
       "      <th></th>\n",
       "      <th>Alertas %</th>\n",
       "      <th>Citacoes %</th>\n",
       "    </tr>\n",
       "    <tr>\n",
       "      <th>driver_gender</th>\n",
       "      <th></th>\n",
       "      <th></th>\n",
       "    </tr>\n",
       "  </thead>\n",
       "  <tbody>\n",
       "    <tr>\n",
       "      <th>F</th>\n",
       "      <td>0.017160</td>\n",
       "      <td>0.245574</td>\n",
       "    </tr>\n",
       "    <tr>\n",
       "      <th>M</th>\n",
       "      <td>0.042191</td>\n",
       "      <td>0.645281</td>\n",
       "    </tr>\n",
       "    <tr>\n",
       "      <th>All</th>\n",
       "      <td>0.059351</td>\n",
       "      <td>0.890855</td>\n",
       "    </tr>\n",
       "  </tbody>\n",
       "</table>\n",
       "</div>"
      ],
      "text/plain": [
       "               Alertas %  Citacoes %\n",
       "driver_gender                       \n",
       "F               0.017160    0.245574\n",
       "M               0.042191    0.645281\n",
       "All             0.059351    0.890855"
      ]
     },
     "metadata": {},
     "output_type": "display_data"
    }
   ],
   "source": [
    "tableStopGeneral = pd.crosstab(police['driver_gender'], police['stop_outcome'], normalize= True, margins=True)\n",
    "tableStop = tableStopGeneral[['Warning', 'Citation']]\n",
    "tableStop.columns = ['Alertas %', 'Citacoes %']\n",
    "display(tableStop)\n"
   ]
  },
  {
   "cell_type": "markdown",
   "metadata": {},
   "source": [
    "#### Segundo as leis norte americanas, \"Citations\" sao mais graves do que \"Warnings\". Logo, essa tabela mostra que homens recebem mais intervencoes do que mulheres,isso geralmente deve ser causado pela irresponsabilidade que muitos homens tem no transito ,  no entanto, isso nao significa, diretamente, que mulheres dirigem melhor."
   ]
  },
  {
   "cell_type": "markdown",
   "metadata": {},
   "source": [
    " **G) Considere agora a hipótese de que a taxa de revista varia de acordo com o tipo de infração, e a diferença na taxa de revista entre homens e mulheres é porque eles tendem a\n",
    "cometer infrações diferentes. Calcule a taxa de infração para cada combinação de gênero\n",
    "e infração. Homens e mulheres são revistados com a mesma taxa para cada infração?**"
   ]
  },
  {
   "cell_type": "code",
   "execution_count": 24,
   "metadata": {},
   "outputs": [
    {
     "data": {
      "text/html": [
       "<div>\n",
       "<style scoped>\n",
       "    .dataframe tbody tr th:only-of-type {\n",
       "        vertical-align: middle;\n",
       "    }\n",
       "\n",
       "    .dataframe tbody tr th {\n",
       "        vertical-align: top;\n",
       "    }\n",
       "\n",
       "    .dataframe thead th {\n",
       "        text-align: right;\n",
       "    }\n",
       "</style>\n",
       "<table border=\"1\" class=\"dataframe\">\n",
       "  <thead>\n",
       "    <tr style=\"text-align: right;\">\n",
       "      <th></th>\n",
       "      <th>Equipment %</th>\n",
       "      <th>Moving violation %</th>\n",
       "      <th>Other %</th>\n",
       "      <th>Registration/plates %</th>\n",
       "      <th>Seat belt %</th>\n",
       "      <th>Speeding %</th>\n",
       "      <th>Total %</th>\n",
       "    </tr>\n",
       "    <tr>\n",
       "      <th>Sexo</th>\n",
       "      <th></th>\n",
       "      <th></th>\n",
       "      <th></th>\n",
       "      <th></th>\n",
       "      <th></th>\n",
       "      <th></th>\n",
       "      <th></th>\n",
       "    </tr>\n",
       "  </thead>\n",
       "  <tbody>\n",
       "    <tr>\n",
       "      <th>F</th>\n",
       "      <td>2.890127</td>\n",
       "      <td>3.797264</td>\n",
       "      <td>0.817001</td>\n",
       "      <td>1.220301</td>\n",
       "      <td>0.667930</td>\n",
       "      <td>18.080337</td>\n",
       "      <td>27.472959</td>\n",
       "    </tr>\n",
       "    <tr>\n",
       "      <th>M</th>\n",
       "      <td>9.730055</td>\n",
       "      <td>14.951003</td>\n",
       "      <td>4.277988</td>\n",
       "      <td>3.058843</td>\n",
       "      <td>2.632430</td>\n",
       "      <td>37.876722</td>\n",
       "      <td>72.527041</td>\n",
       "    </tr>\n",
       "    <tr>\n",
       "      <th>Total</th>\n",
       "      <td>12.620181</td>\n",
       "      <td>18.748267</td>\n",
       "      <td>5.094989</td>\n",
       "      <td>4.279144</td>\n",
       "      <td>3.300361</td>\n",
       "      <td>55.957058</td>\n",
       "      <td>100.000000</td>\n",
       "    </tr>\n",
       "  </tbody>\n",
       "</table>\n",
       "</div>"
      ],
      "text/plain": [
       "       Equipment %  Moving violation %   Other %  Registration/plates %  \\\n",
       "Sexo                                                                      \n",
       "F         2.890127            3.797264  0.817001               1.220301   \n",
       "M         9.730055           14.951003  4.277988               3.058843   \n",
       "Total    12.620181           18.748267  5.094989               4.279144   \n",
       "\n",
       "       Seat belt %  Speeding %     Total %  \n",
       "Sexo                                        \n",
       "F         0.667930   18.080337   27.472959  \n",
       "M         2.632430   37.876722   72.527041  \n",
       "Total     3.300361   55.957058  100.000000  "
      ]
     },
     "metadata": {},
     "output_type": "display_data"
    },
    {
     "data": {
      "text/plain": [
       "<AxesSubplot:xlabel='Sexo'>"
      ]
     },
     "execution_count": 24,
     "metadata": {},
     "output_type": "execute_result"
    },
    {
     "data": {
      "image/png": "[encoded data removed]",
      "text/plain": [
       "<Figure size 720x720 with 1 Axes>"
      ]
     },
     "metadata": {
      "needs_background": "light"
     },
     "output_type": "display_data"
    }
   ],
   "source": [
    "tableLetterG = pd.crosstab(police['driver_gender'], police['violation'], margins= True, margins_name='Total', normalize= True, rownames=[\"Sexo\"])*100\n",
    "newColumns = []\n",
    "for i in list(tableLetterG.columns):\n",
    "    newColumns.append(i + \" %\")\n",
    "\n",
    "tableLetterG.columns = newColumns\n",
    "display(tableLetterG)\n",
    "tableLetterG.plot.bar(figsize = (10, 10))\n"
   ]
  },
  {
   "cell_type": "markdown",
   "metadata": {},
   "source": [
    "### Ao analisar a tabela e o gráfico a baixo, é possível perceber que os homens são mais parados do que as mulheres"
   ]
  },
  {
   "cell_type": "markdown",
   "metadata": {},
   "source": [
    "--------------------------\n",
    "\n",
    "### **3. Análise exploratória visual dos dados**"
   ]
  },
  {
   "cell_type": "markdown",
   "metadata": {},
   "source": [
    "**A) Quando um policial para um motorista, uma pequena porcentagem dessas paradas termina em uma prisão. Isso é conhecido como taxa de prisão. Você descobrirá se a taxa de\n",
    "prisão varia de acordo com a hora do dia. Primeiro, você calculará a taxa de prisão em\n",
    "todas as paradas no DataFrame, calculando a média da coluna is_arrested ;**"
   ]
  },
  {
   "cell_type": "code",
   "execution_count": 29,
   "metadata": {},
   "outputs": [
    {
     "data": {
      "text/plain": [
       "0.0355690117407784"
      ]
     },
     "execution_count": 29,
     "metadata": {},
     "output_type": "execute_result"
    }
   ],
   "source": [
    "meanDf = police['is_arrested'].mean()\n",
    "meanDf"
   ]
  },
  {
   "cell_type": "markdown",
   "metadata": {},
   "source": [
    "**B) Em seguida, você calculará a taxa de prisão por hora usando o atributo de hora do índice.\n",
    "A hora varia de 0 a 23, considerando que 0 é meia noite e 12h é meio dia. Para isso,\n",
    "agrupe (usando groupby) pelo atributo de hora do índice do DataFrame, calculando a\n",
    "média dos valores agrupados. No final crie uma nova variável hourly_arrest_rate\n",
    "com os valores encontrados da taxa de prisão por hora;**"
   ]
  },
  {
   "cell_type": "code",
   "execution_count": 30,
   "metadata": {},
   "outputs": [
    {
     "data": {
      "text/html": [
       "<div>\n",
       "<style scoped>\n",
       "    .dataframe tbody tr th:only-of-type {\n",
       "        vertical-align: middle;\n",
       "    }\n",
       "\n",
       "    .dataframe tbody tr th {\n",
       "        vertical-align: top;\n",
       "    }\n",
       "\n",
       "    .dataframe thead th {\n",
       "        text-align: right;\n",
       "    }\n",
       "</style>\n",
       "<table border=\"1\" class=\"dataframe\">\n",
       "  <thead>\n",
       "    <tr style=\"text-align: right;\">\n",
       "      <th></th>\n",
       "      <th>Prisões</th>\n",
       "    </tr>\n",
       "    <tr>\n",
       "      <th>stop_datetime</th>\n",
       "      <th></th>\n",
       "    </tr>\n",
       "  </thead>\n",
       "  <tbody>\n",
       "    <tr>\n",
       "      <th>0</th>\n",
       "      <td>0.051431</td>\n",
       "    </tr>\n",
       "    <tr>\n",
       "      <th>1</th>\n",
       "      <td>0.064932</td>\n",
       "    </tr>\n",
       "    <tr>\n",
       "      <th>2</th>\n",
       "      <td>0.060798</td>\n",
       "    </tr>\n",
       "    <tr>\n",
       "      <th>3</th>\n",
       "      <td>0.060549</td>\n",
       "    </tr>\n",
       "    <tr>\n",
       "      <th>4</th>\n",
       "      <td>0.048000</td>\n",
       "    </tr>\n",
       "    <tr>\n",
       "      <th>5</th>\n",
       "      <td>0.042781</td>\n",
       "    </tr>\n",
       "    <tr>\n",
       "      <th>6</th>\n",
       "      <td>0.013813</td>\n",
       "    </tr>\n",
       "    <tr>\n",
       "      <th>7</th>\n",
       "      <td>0.013032</td>\n",
       "    </tr>\n",
       "    <tr>\n",
       "      <th>8</th>\n",
       "      <td>0.021854</td>\n",
       "    </tr>\n",
       "    <tr>\n",
       "      <th>9</th>\n",
       "      <td>0.025206</td>\n",
       "    </tr>\n",
       "    <tr>\n",
       "      <th>10</th>\n",
       "      <td>0.028213</td>\n",
       "    </tr>\n",
       "    <tr>\n",
       "      <th>11</th>\n",
       "      <td>0.028897</td>\n",
       "    </tr>\n",
       "    <tr>\n",
       "      <th>12</th>\n",
       "      <td>0.037399</td>\n",
       "    </tr>\n",
       "    <tr>\n",
       "      <th>13</th>\n",
       "      <td>0.030776</td>\n",
       "    </tr>\n",
       "    <tr>\n",
       "      <th>14</th>\n",
       "      <td>0.030605</td>\n",
       "    </tr>\n",
       "    <tr>\n",
       "      <th>15</th>\n",
       "      <td>0.030679</td>\n",
       "    </tr>\n",
       "    <tr>\n",
       "      <th>16</th>\n",
       "      <td>0.035281</td>\n",
       "    </tr>\n",
       "    <tr>\n",
       "      <th>17</th>\n",
       "      <td>0.040619</td>\n",
       "    </tr>\n",
       "    <tr>\n",
       "      <th>18</th>\n",
       "      <td>0.038204</td>\n",
       "    </tr>\n",
       "    <tr>\n",
       "      <th>19</th>\n",
       "      <td>0.032245</td>\n",
       "    </tr>\n",
       "    <tr>\n",
       "      <th>20</th>\n",
       "      <td>0.038107</td>\n",
       "    </tr>\n",
       "    <tr>\n",
       "      <th>21</th>\n",
       "      <td>0.064541</td>\n",
       "    </tr>\n",
       "    <tr>\n",
       "      <th>22</th>\n",
       "      <td>0.048666</td>\n",
       "    </tr>\n",
       "    <tr>\n",
       "      <th>23</th>\n",
       "      <td>0.047592</td>\n",
       "    </tr>\n",
       "  </tbody>\n",
       "</table>\n",
       "</div>"
      ],
      "text/plain": [
       "                Prisões\n",
       "stop_datetime          \n",
       "0              0.051431\n",
       "1              0.064932\n",
       "2              0.060798\n",
       "3              0.060549\n",
       "4              0.048000\n",
       "5              0.042781\n",
       "6              0.013813\n",
       "7              0.013032\n",
       "8              0.021854\n",
       "9              0.025206\n",
       "10             0.028213\n",
       "11             0.028897\n",
       "12             0.037399\n",
       "13             0.030776\n",
       "14             0.030605\n",
       "15             0.030679\n",
       "16             0.035281\n",
       "17             0.040619\n",
       "18             0.038204\n",
       "19             0.032245\n",
       "20             0.038107\n",
       "21             0.064541\n",
       "22             0.048666\n",
       "23             0.047592"
      ]
     },
     "execution_count": 30,
     "metadata": {},
     "output_type": "execute_result"
    }
   ],
   "source": [
    "hourly_arrest_rate = police.groupby(by=lambda x: x.hour)['is_arrested']\n",
    "\n",
    "hourly_arrest_rate = pd.DataFrame(hourly_arrest_rate.mean())\n",
    "\n",
    "hourly_arrest_rate.rename({\"stop_datetime\": \"Horas\"}, inplace = True)\n",
    "hourly_arrest_rate.rename({\"is_arrested\": \"Prisões\"}, axis= 'columns', inplace = True)\n",
    "\n",
    "hourly_arrest_rate"
   ]
  },
  {
   "cell_type": "markdown",
   "metadata": {},
   "source": [
    "**C) Agora crie um gráfico de linha mostrando a variável hourly_arrest_rate, colocando\n",
    "o rótulo Horas no eixo-x, e Taxa de Prisões, no eixo-y, e o título de Taxa de Prisões por Hora\n",
    "do Dia;**"
   ]
  },
  {
   "cell_type": "code",
   "execution_count": 166,
   "metadata": {},
   "outputs": [
    {
     "data": {
      "text/plain": [
       "<AxesSubplot:xlabel='Horas', ylabel=' Taxa de Prisões por Hora do Dia'>"
      ]
     },
     "execution_count": 166,
     "metadata": {},
     "output_type": "execute_result"
    },
    {
     "data": {
      "image/png": "[encoded data removed]",
      "text/plain": [
       "<Figure size 720x720 with 1 Axes>"
      ]
     },
     "metadata": {
      "needs_background": "light"
     },
     "output_type": "display_data"
    }
   ],
   "source": [
    "hourly_arrest_rate.plot(xticks = range(0, 24), figsize = (10,10), xlabel = \"Horas\", ylabel = \" Taxa de Prisões por Hora do Dia\")"
   ]
  },
  {
   "cell_type": "markdown",
   "metadata": {},
   "source": [
    "**D) Em uma pequena parte das paradas de trânsito, drogas são encontradas no veículo durante uma busca. Agora, você avaliará se essas interrupções relacionadas à drogas estão\n",
    "se tornando mais comuns com o tempo. A coluna booleana drug_related_stop indica\n",
    "se drogas foram encontradas durante uma determinada parada. Você calculará a taxa\n",
    "anual de drogas reamostrando essa coluna e, em seguida, usará um gráfico de linha para\n",
    "visualizar como a taxa mudou ao longo do tempo;**"
   ]
  },
  {
   "cell_type": "code",
   "execution_count": 32,
   "metadata": {},
   "outputs": [
    {
     "data": {
      "text/plain": [
       "stop_datetime\n",
       "2005     16\n",
       "2006     73\n",
       "2007     72\n",
       "2008     62\n",
       "2009     71\n",
       "2010     72\n",
       "2011     75\n",
       "2012    103\n",
       "2013     99\n",
       "2014    120\n",
       "2015     99\n",
       "Name: drugs_related_stop, dtype: int64"
      ]
     },
     "metadata": {},
     "output_type": "display_data"
    },
    {
     "data": {
      "image/png": "[encoded data removed]",
      "text/plain": [
       "<Figure size 432x288 with 1 Axes>"
      ]
     },
     "metadata": {
      "needs_background": "light"
     },
     "output_type": "display_data"
    }
   ],
   "source": [
    "drugStop = police.groupby(by=lambda x: x.year)['drugs_related_stop'].mean()\n",
    "indx = list(drugStop.keys())\n",
    "drugStop.plot(xticks = range(indx[0], indx[-1]+1))\n",
    "display(police.groupby(by=lambda x: x.year)['drugs_related_stop'].sum())\n"
   ]
  },
  {
   "cell_type": "markdown",
   "metadata": {},
   "source": [
    "**E) Ainda falando sobre drogas, consideremos a hipótese de que, o aumento ou a diminuição das apreensões de drogas estão associadas ao aumento ou diminuição das abordagens políciais, ou seja, mais abordagens, geram mais apreensões e menos abordagens, menos apreensões de drogas. Podemos testar essa hipótese calculando a taxa de\n",
    "abordagens anual e, em seguida, comparando-a com a taxa anual de medicamentos.\n",
    "Se a hipótese for verdadeira, você verá que ambas as taxas aumentam com o tempo.\n",
    "Para isso, calcule a taxa de pesquisa anual reamostrando a coluna search_conducted\n",
    "e salve o resultado como Annual_search_rate. Concatene Annual_drug_rate e\n",
    "Annual_search_rate ao longo do eixo das colunas e gere gráficos de linha para os\n",
    "dados desse resultado da concatenação;**"
   ]
  },
  {
   "cell_type": "code",
   "execution_count": 31,
   "metadata": {},
   "outputs": [
    {
     "data": {
      "text/plain": [
       "<AxesSubplot:xlabel='stop_datetime'>"
      ]
     },
     "execution_count": 31,
     "metadata": {},
     "output_type": "execute_result"
    },
    {
     "data": {
      "image/png": "[encoded data removed]",
      "text/plain": [
       "<Figure size 432x288 with 1 Axes>"
      ]
     },
     "metadata": {
      "needs_background": "light"
     },
     "output_type": "display_data"
    }
   ],
   "source": [
    "Annual_search_rate = police[['drugs_related_stop', 'search_conducted']].groupby(by=lambda x: x.year).mean()\n",
    "Annual_search_rate.plot(xticks = range(2005,2016))\n"
   ]
  },
  {
   "cell_type": "markdown",
   "metadata": {},
   "source": [
    "### podemos analizar que a queda na taxa de condução anual não está relacionada com a incidência de drogas achadas em veículos, pois,enquanto \"drugs_related_stop\" cresce \"search_conducted\" diminui"
   ]
  },
  {
   "cell_type": "markdown",
   "metadata": {},
   "source": [
    "**F) O estado de Rhode Island está dividido em seis distritos policiais, também conhecidos\n",
    "como zonas. Como as zonas se comparam em termos de quais infrações são detectadas\n",
    "pela polícia? Para isso, crie uma distribuição conjunta entre as variáveis district e\n",
    "violation, usando uma tabela de contingência. Depois, selecione as linhas das zonas\n",
    "’Zona K1’ a ’Zona K3’, gere um gráfico de barras agrupadas que ilustre os resultados\n",
    "obtido na tabela, e responda a questão colocada**"
   ]
  },
  {
   "cell_type": "code",
   "execution_count": 169,
   "metadata": {},
   "outputs": [
    {
     "name": "stdout",
     "output_type": "stream",
     "text": [
      "Não podemos afirmar que a zona K1 é menor que K3.\n",
      "No entanto, a primeira registra bem menos violações, principalmente, quando se trata de cinto de segurança.\n"
     ]
    },
    {
     "data": {
      "image/png": "[encoded data removed]",
      "text/plain": [
       "<Figure size 432x288 with 1 Axes>"
      ]
     },
     "metadata": {
      "needs_background": "light"
     },
     "output_type": "display_data"
    }
   ],
   "source": [
    "districtViolation = pd.crosstab(police['district'],police['violation'])\n",
    "\n",
    "districtViolation.loc[['Zone K1', 'Zone K3']].plot.bar(stacked = True, rot = True)\n"
   ]
  },
  {
   "cell_type": "markdown",
   "metadata": {},
   "source": [
    "### Não podemos afirmar que a zona K1 é menor que K3.No entanto, a primeira registra bem menos violações, principalmente, quando se trata de cinto de segurança."
   ]
  },
  {
   "cell_type": "markdown",
   "metadata": {},
   "source": [
    "--------------------------\n",
    "\n",
    "### **4. Analisando o efeito do clima no policiamento**"
   ]
  },
  {
   "cell_type": "code",
   "execution_count": 34,
   "metadata": {},
   "outputs": [],
   "source": [
    "weather = pd.read_csv(\"weather.csv\")"
   ]
  },
  {
   "cell_type": "markdown",
   "metadata": {},
   "source": [
    "**A) Comece explorando as temperaturas apresentadas no conjunto de dados: carregue o conjunto, selecione as variáveis relativas à temperatura (TMIN, TAVG, TMAX), imprima as\n",
    "principais medidas resumo usando o comando describe e plote os três boxplots dessas\n",
    "variáveis em um mesmo gráfico. O que você poderia comentar sobre as temperaturas, com\n",
    "base nos resultados obtidos? PS.: ao decidir se os valores parecem razoáveis, lembre-se\n",
    "de que a temperatura é medida em graus Fahrenheit, não Celsius!**"
   ]
  },
  {
   "cell_type": "code",
   "execution_count": 36,
   "metadata": {},
   "outputs": [
    {
     "data": {
      "text/html": [
       "<div>\n",
       "<style scoped>\n",
       "    .dataframe tbody tr th:only-of-type {\n",
       "        vertical-align: middle;\n",
       "    }\n",
       "\n",
       "    .dataframe tbody tr th {\n",
       "        vertical-align: top;\n",
       "    }\n",
       "\n",
       "    .dataframe thead th {\n",
       "        text-align: right;\n",
       "    }\n",
       "</style>\n",
       "<table border=\"1\" class=\"dataframe\">\n",
       "  <thead>\n",
       "    <tr style=\"text-align: right;\">\n",
       "      <th></th>\n",
       "      <th>TMIN</th>\n",
       "      <th>TAVG</th>\n",
       "      <th>TMAX</th>\n",
       "    </tr>\n",
       "  </thead>\n",
       "  <tbody>\n",
       "    <tr>\n",
       "      <th>count</th>\n",
       "      <td>4017.000000</td>\n",
       "      <td>1217.000000</td>\n",
       "      <td>4017.000000</td>\n",
       "    </tr>\n",
       "    <tr>\n",
       "      <th>mean</th>\n",
       "      <td>43.484441</td>\n",
       "      <td>52.493016</td>\n",
       "      <td>61.268608</td>\n",
       "    </tr>\n",
       "    <tr>\n",
       "      <th>std</th>\n",
       "      <td>17.020298</td>\n",
       "      <td>17.830714</td>\n",
       "      <td>18.199517</td>\n",
       "    </tr>\n",
       "    <tr>\n",
       "      <th>min</th>\n",
       "      <td>-5.000000</td>\n",
       "      <td>6.000000</td>\n",
       "      <td>15.000000</td>\n",
       "    </tr>\n",
       "    <tr>\n",
       "      <th>25%</th>\n",
       "      <td>30.000000</td>\n",
       "      <td>39.000000</td>\n",
       "      <td>47.000000</td>\n",
       "    </tr>\n",
       "    <tr>\n",
       "      <th>50%</th>\n",
       "      <td>44.000000</td>\n",
       "      <td>54.000000</td>\n",
       "      <td>62.000000</td>\n",
       "    </tr>\n",
       "    <tr>\n",
       "      <th>75%</th>\n",
       "      <td>58.000000</td>\n",
       "      <td>68.000000</td>\n",
       "      <td>77.000000</td>\n",
       "    </tr>\n",
       "    <tr>\n",
       "      <th>max</th>\n",
       "      <td>77.000000</td>\n",
       "      <td>86.000000</td>\n",
       "      <td>102.000000</td>\n",
       "    </tr>\n",
       "  </tbody>\n",
       "</table>\n",
       "</div>"
      ],
      "text/plain": [
       "              TMIN         TAVG         TMAX\n",
       "count  4017.000000  1217.000000  4017.000000\n",
       "mean     43.484441    52.493016    61.268608\n",
       "std      17.020298    17.830714    18.199517\n",
       "min      -5.000000     6.000000    15.000000\n",
       "25%      30.000000    39.000000    47.000000\n",
       "50%      44.000000    54.000000    62.000000\n",
       "75%      58.000000    68.000000    77.000000\n",
       "max      77.000000    86.000000   102.000000"
      ]
     },
     "metadata": {},
     "output_type": "display_data"
    },
    {
     "data": {
      "text/html": [
       "<div>\n",
       "<style scoped>\n",
       "    .dataframe tbody tr th:only-of-type {\n",
       "        vertical-align: middle;\n",
       "    }\n",
       "\n",
       "    .dataframe tbody tr th {\n",
       "        vertical-align: top;\n",
       "    }\n",
       "\n",
       "    .dataframe thead th {\n",
       "        text-align: right;\n",
       "    }\n",
       "</style>\n",
       "<table border=\"1\" class=\"dataframe\">\n",
       "  <thead>\n",
       "    <tr style=\"text-align: right;\">\n",
       "      <th></th>\n",
       "      <th>TMIN</th>\n",
       "      <th>TAVG</th>\n",
       "      <th>TMAX</th>\n",
       "    </tr>\n",
       "  </thead>\n",
       "  <tbody>\n",
       "    <tr>\n",
       "      <th>0</th>\n",
       "      <td>35</td>\n",
       "      <td>44.0</td>\n",
       "      <td>53</td>\n",
       "    </tr>\n",
       "    <tr>\n",
       "      <th>1</th>\n",
       "      <td>28</td>\n",
       "      <td>36.0</td>\n",
       "      <td>44</td>\n",
       "    </tr>\n",
       "    <tr>\n",
       "      <th>2</th>\n",
       "      <td>44</td>\n",
       "      <td>49.0</td>\n",
       "      <td>53</td>\n",
       "    </tr>\n",
       "    <tr>\n",
       "      <th>3</th>\n",
       "      <td>39</td>\n",
       "      <td>42.0</td>\n",
       "      <td>45</td>\n",
       "    </tr>\n",
       "    <tr>\n",
       "      <th>4</th>\n",
       "      <td>28</td>\n",
       "      <td>36.0</td>\n",
       "      <td>43</td>\n",
       "    </tr>\n",
       "    <tr>\n",
       "      <th>...</th>\n",
       "      <td>...</td>\n",
       "      <td>...</td>\n",
       "      <td>...</td>\n",
       "    </tr>\n",
       "    <tr>\n",
       "      <th>4012</th>\n",
       "      <td>44</td>\n",
       "      <td>51.0</td>\n",
       "      <td>61</td>\n",
       "    </tr>\n",
       "    <tr>\n",
       "      <th>4013</th>\n",
       "      <td>30</td>\n",
       "      <td>40.0</td>\n",
       "      <td>44</td>\n",
       "    </tr>\n",
       "    <tr>\n",
       "      <th>4014</th>\n",
       "      <td>28</td>\n",
       "      <td>33.0</td>\n",
       "      <td>40</td>\n",
       "    </tr>\n",
       "    <tr>\n",
       "      <th>4015</th>\n",
       "      <td>27</td>\n",
       "      <td>30.0</td>\n",
       "      <td>35</td>\n",
       "    </tr>\n",
       "    <tr>\n",
       "      <th>4016</th>\n",
       "      <td>35</td>\n",
       "      <td>39.0</td>\n",
       "      <td>50</td>\n",
       "    </tr>\n",
       "  </tbody>\n",
       "</table>\n",
       "<p>4017 rows × 3 columns</p>\n",
       "</div>"
      ],
      "text/plain": [
       "      TMIN  TAVG  TMAX\n",
       "0       35  44.0    53\n",
       "1       28  36.0    44\n",
       "2       44  49.0    53\n",
       "3       39  42.0    45\n",
       "4       28  36.0    43\n",
       "...    ...   ...   ...\n",
       "4012    44  51.0    61\n",
       "4013    30  40.0    44\n",
       "4014    28  33.0    40\n",
       "4015    27  30.0    35\n",
       "4016    35  39.0    50\n",
       "\n",
       "[4017 rows x 3 columns]"
      ]
     },
     "metadata": {},
     "output_type": "display_data"
    },
    {
     "data": {
      "text/plain": [
       "<AxesSubplot:>"
      ]
     },
     "execution_count": 36,
     "metadata": {},
     "output_type": "execute_result"
    },
    {
     "data": {
      "image/png": "[encoded data removed]",
      "text/plain": [
       "<Figure size 432x288 with 1 Axes>"
      ]
     },
     "metadata": {
      "needs_background": "light"
     },
     "output_type": "display_data"
    }
   ],
   "source": [
    "useWeather = weather[['TMIN', 'TAVG', 'TMAX']]\n",
    "\n",
    "\n",
    "display(useWeather.describe())\n",
    "display(useWeather)\n",
    "\n",
    "useWeather.plot.box()"
   ]
  },
  {
   "cell_type": "markdown",
   "metadata": {},
   "source": [
    "### Ao analisar a descrição, podemos ver que o local, cujo os dados foram coletados, é relativamente frio, pois sua temperatura média é de F° 52,49 (cerca de C° 11,38)"
   ]
  },
  {
   "cell_type": "markdown",
   "metadata": {},
   "source": [
    "**B) Para a variável TDIFF, que representa a diferença entre as temperaturas, apresente as\n",
    "medidas resumo e plote um histograma para essa variável. O que pode dizer sobre a\n",
    "distribuição de dados?**"
   ]
  },
  {
   "cell_type": "code",
   "execution_count": 172,
   "metadata": {},
   "outputs": [
    {
     "data": {
      "text/plain": [
       "<AxesSubplot:>"
      ]
     },
     "execution_count": 172,
     "metadata": {},
     "output_type": "execute_result"
    },
    {
     "data": {
      "image/png": "[encoded data removed]",
      "text/plain": [
       "<Figure size 720x720 with 1 Axes>"
      ]
     },
     "metadata": {
      "needs_background": "light"
     },
     "output_type": "display_data"
    }
   ],
   "source": [
    "weather['TDIFF'] = weather['TMAX'] - weather['TMIN']\n",
    "\n",
    "weather['TDIFF'].plot.box(figsize = (10,10))"
   ]
  }
 ],
 "metadata": {
  "interpreter": {
   "hash": "b3ba2566441a7c06988d0923437866b63cedc61552a5af99d1f4fb67d367b25f"
  },
  "kernelspec": {
   "display_name": "Python 3 (ipykernel)",
   "language": "python",
   "name": "python3"
  },
  "language_info": {
   "codemirror_mode": {
    "name": "ipython",
    "version": 3
   },
   "file_extension": ".py",
   "mimetype": "text/x-python",
   "name": "python",
   "nbconvert_exporter": "python",
   "pygments_lexer": "ipython3",
   "version": "3.9.7"
  }
 },
 "nbformat": 4,
 "nbformat_minor": 4
}
